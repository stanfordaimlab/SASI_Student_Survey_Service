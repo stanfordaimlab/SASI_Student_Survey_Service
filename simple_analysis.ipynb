{
 "cells": [
  {
   "cell_type": "code",
   "execution_count": 56,
   "id": "ec0694f4",
   "metadata": {},
   "outputs": [],
   "source": [
    "\n",
    "import pandas as pd \n",
    "import numpy as np\n",
    "import streamlit as st"
   ]
  },
  {
   "cell_type": "code",
   "execution_count": 37,
   "id": "922afc96",
   "metadata": {},
   "outputs": [],
   "source": [
    "am_data = pd.read_csv(\"../SASI 2025 Course Results - AM Foundations.csv\")\n",
    "am_data_0627 = pd.read_csv(\"/Users/jasonlin/Downloads/SASI_data/2025/SASI 2025 Course Results - AM.csv\")\n",
    "\n",
    "pm_data = pd.read_csv(\"../SASI 2025 Course Results - PM Foundations.csv\")\n",
    "pm_data_0627 = pd.read_csv(\"/Users/jasonlin/Downloads/SASI_data/2025/SASI 2025 Course Results - PM.csv\")\n"
   ]
  },
  {
   "cell_type": "code",
   "execution_count": 57,
   "id": "f7d6689d",
   "metadata": {},
   "outputs": [
    {
     "name": "stderr",
     "output_type": "stream",
     "text": [
      "2025-06-28 14:25:09.698 WARNING streamlit.runtime.scriptrunner_utils.script_run_context: Thread 'MainThread': missing ScriptRunContext! This warning can be ignored when running in bare mode.\n",
      "2025-06-28 14:25:09.791 WARNING streamlit.runtime.scriptrunner_utils.script_run_context: Thread 'MainThread': missing ScriptRunContext! This warning can be ignored when running in bare mode.\n",
      "2025-06-28 14:25:09.950 \n",
      "  \u001b[33m\u001b[1mWarning:\u001b[0m to view this Streamlit app on a browser, run it with the following\n",
      "  command:\n",
      "\n",
      "    streamlit run /Users/jasonlin/anaconda3/lib/python3.11/site-packages/ipykernel_launcher.py [ARGUMENTS]\n",
      "2025-06-28 14:25:09.950 Thread 'MainThread': missing ScriptRunContext! This warning can be ignored when running in bare mode.\n",
      "2025-06-28 14:25:09.951 Thread 'MainThread': missing ScriptRunContext! This warning can be ignored when running in bare mode.\n",
      "2025-06-28 14:25:09.964 Thread 'MainThread': missing ScriptRunContext! This warning can be ignored when running in bare mode.\n",
      "2025-06-28 14:25:09.965 Thread 'MainThread': missing ScriptRunContext! This warning can be ignored when running in bare mode.\n",
      "2025-06-28 14:25:09.972 Thread 'MainThread': missing ScriptRunContext! This warning can be ignored when running in bare mode.\n",
      "2025-06-28 14:25:09.974 Thread 'MainThread': missing ScriptRunContext! This warning can be ignored when running in bare mode.\n",
      "2025-06-28 14:25:09.974 Thread 'MainThread': missing ScriptRunContext! This warning can be ignored when running in bare mode.\n",
      "2025-06-28 14:25:09.974 Thread 'MainThread': missing ScriptRunContext! This warning can be ignored when running in bare mode.\n",
      "2025-06-28 14:25:09.975 Thread 'MainThread': missing ScriptRunContext! This warning can be ignored when running in bare mode.\n",
      "2025-06-28 14:25:09.976 Thread 'MainThread': missing ScriptRunContext! This warning can be ignored when running in bare mode.\n",
      "2025-06-28 14:25:09.977 Thread 'MainThread': missing ScriptRunContext! This warning can be ignored when running in bare mode.\n",
      "2025-06-28 14:25:09.978 Thread 'MainThread': missing ScriptRunContext! This warning can be ignored when running in bare mode.\n",
      "2025-06-28 14:25:09.978 Thread 'MainThread': missing ScriptRunContext! This warning can be ignored when running in bare mode.\n",
      "2025-06-28 14:25:09.978 Thread 'MainThread': missing ScriptRunContext! This warning can be ignored when running in bare mode.\n",
      "2025-06-28 14:25:09.985 Thread 'MainThread': missing ScriptRunContext! This warning can be ignored when running in bare mode.\n",
      "2025-06-28 14:25:09.985 Thread 'MainThread': missing ScriptRunContext! This warning can be ignored when running in bare mode.\n",
      "2025-06-28 14:25:09.986 Thread 'MainThread': missing ScriptRunContext! This warning can be ignored when running in bare mode.\n",
      "2025-06-28 14:25:09.986 Thread 'MainThread': missing ScriptRunContext! This warning can be ignored when running in bare mode.\n",
      "2025-06-28 14:25:09.988 Thread 'MainThread': missing ScriptRunContext! This warning can be ignored when running in bare mode.\n",
      "2025-06-28 14:25:09.990 Thread 'MainThread': missing ScriptRunContext! This warning can be ignored when running in bare mode.\n",
      "2025-06-28 14:25:09.990 Thread 'MainThread': missing ScriptRunContext! This warning can be ignored when running in bare mode.\n",
      "2025-06-28 14:25:09.991 Thread 'MainThread': missing ScriptRunContext! This warning can be ignored when running in bare mode.\n",
      "2025-06-28 14:25:09.992 Thread 'MainThread': missing ScriptRunContext! This warning can be ignored when running in bare mode.\n",
      "2025-06-28 14:25:09.992 Thread 'MainThread': missing ScriptRunContext! This warning can be ignored when running in bare mode.\n",
      "2025-06-28 14:25:09.992 Thread 'MainThread': missing ScriptRunContext! This warning can be ignored when running in bare mode.\n",
      "2025-06-28 14:25:09.992 Thread 'MainThread': missing ScriptRunContext! This warning can be ignored when running in bare mode.\n",
      "2025-06-28 14:25:09.993 Thread 'MainThread': missing ScriptRunContext! This warning can be ignored when running in bare mode.\n",
      "2025-06-28 14:25:09.993 Thread 'MainThread': missing ScriptRunContext! This warning can be ignored when running in bare mode.\n",
      "2025-06-28 14:25:09.993 Thread 'MainThread': missing ScriptRunContext! This warning can be ignored when running in bare mode.\n",
      "2025-06-28 14:25:09.993 Thread 'MainThread': missing ScriptRunContext! This warning can be ignored when running in bare mode.\n",
      "2025-06-28 14:25:10.023 Thread 'MainThread': missing ScriptRunContext! This warning can be ignored when running in bare mode.\n",
      "2025-06-28 14:25:10.023 Thread 'MainThread': missing ScriptRunContext! This warning can be ignored when running in bare mode.\n",
      "2025-06-28 14:25:10.023 Thread 'MainThread': missing ScriptRunContext! This warning can be ignored when running in bare mode.\n"
     ]
    },
    {
     "data": {
      "text/plain": [
       "DeltaGenerator()"
      ]
     },
     "execution_count": 57,
     "metadata": {},
     "output_type": "execute_result"
    }
   ],
   "source": [
    "import streamlit as st\n",
    "import pandas as pd\n",
    "import numpy as np\n",
    "\n",
    "# Page config\n",
    "st.set_page_config(page_title='Basic Sales Dashboard', layout='wide')\n",
    "\n",
    "# Generate sample data\n",
    "np.random.seed(42)\n",
    "df = pd.DataFrame({\n",
    "    'Date': pd.date_range('2024-01-01', periods=100),\n",
    "    'Sales': np.random.randint(500, 2000, size=100),\n",
    "    'Region': np.random.choice(['North', 'South', 'East', 'West'], size=100),\n",
    "    'Product': np.random.choice(['Product A', 'Product B', 'Product C'], size=100)\n",
    "})\n",
    "\n",
    "# Sidebar filters\n",
    "st.sidebar.title('Filters')\n",
    "regions = st.sidebar.multiselect('Select Region', df['Region'].unique(), default=df['Region'].unique())\n",
    "products = st.sidebar.multiselect('Select Product', df['Product'].unique(), default=df['Product'].unique())\n",
    "\n",
    "# Filter data\n",
    "filtered_df = df[(df['Region'].isin(regions)) & (df['Product'].isin(products))]\n",
    "\n",
    "# Display metrics\n",
    "col1, col2, col3 = st.columns(3)\n",
    "col1.metric(\"Total Sales\", f\"${filtered_df['Sales'].sum():,}\")\n",
    "col2.metric(\"Average Sales\", f\"${filtered_df['Sales'].mean():.0f}\")\n",
    "col3.metric(\"Records\", len(filtered_df))\n",
    "\n",
    "# Display filtered data\n",
    "st.subheader(\"Filtered Data\")\n",
    "st.dataframe(filtered_df)"
   ]
  },
  {
   "cell_type": "code",
   "execution_count": 48,
   "id": "0793c55e",
   "metadata": {},
   "outputs": [
    {
     "data": {
      "application/vnd.plotly.v1+json": {
       "config": {
        "plotlyServerURL": "https://plot.ly"
       },
       "data": [
        {
         "bingroup": "x",
         "hovertemplate": "variable=Correct Percentage<br>value=%{x}<br>count=%{y}<extra></extra>",
         "legendgroup": "Correct Percentage",
         "marker": {
          "color": "darkred",
          "pattern": {
           "shape": ""
          }
         },
         "name": "Correct Percentage",
         "nbinsx": 20,
         "orientation": "v",
         "showlegend": true,
         "texttemplate": "%{value}",
         "type": "histogram",
         "x": {
          "bdata": "AAAAAAAA8D8AAAAAAADwPwAAAAAAAAAAAAAAAAAA8D8AAAAAAAAAAAAAAAAAAAAAZmZmZmZm7j+amZmZmZnZPwAAAAAAAOg/AAAAAAAA8D8AAAAAAADwP5WoZ1VVVcU/mpmZmZmZ6T9ZHY2IiIjoP/K2JiIiIuo/mpmZmZmZ4T9ZHY2IiIjoP/K2JiIiIuo/ZmZmZmZm7j8AAAAAAADoPwAAAAAAAPA/AAAAAAAA8D9mZmZmZmbuP56Ky93d3c0/AAAAAAAA8D8AAAAAAADoP2ZmZmZmZu4/AAAAAAAA8D/NzMzMzMzcPwAAAAAAAPA/mpmZmZmZ4T+amZmZmZnpP3SvP0REROw/AAAAAAAA8D8AAAAAAADwP2ZmZmZmZu4/ZmZmZmZm7j9mZmZmZmbuPyXqWVVVVeU/AAAAAAAA8D8AAAAAAADwP2ZmZmZmZuY/ZmZmZmZm1j8AAAAAAADwPwAAAAAAAPA/AAAAAAAA8D9ehALe3d29PwAAAAAAAPA/AAAAAAAA8D9mZmZmZmbuPw5J2d3d3e0/AAAAAAAAAAB+B+fd3d3dPwAAAAAAAPA/AAAAAAAA8D8AAAAAAADwP5qZmZmZmak/ZmZmZmZm7j9mZmZmZmbuP5qZmZmZmek/0b3+EBERwT8AAAAAAAAAACXqWVVVVe0/T8Xl7u7u3j+1K0xVVVXVP7UrTFVVVdU/0b3+EBERwT84JGV3d3fHP0F8DBEREek/v4Pz7u7u5j+RvAkRERGhPwAAAAAAAAAA0b3+EBERwT84JGV3d3fHPxWrUVVVVbU/OCRld3d3xz84JGV3d3fHPxWrUVVVVbU/",
          "dtype": "f8"
         },
         "xaxis": "x",
         "yaxis": "y"
        }
       ],
       "layout": {
        "bargap": 0.2,
        "barmode": "relative",
        "legend": {
         "title": {
          "text": "variable"
         },
         "tracegroupgap": 0
        },
        "template": {
         "data": {
          "bar": [
           {
            "error_x": {
             "color": "#2a3f5f"
            },
            "error_y": {
             "color": "#2a3f5f"
            },
            "marker": {
             "line": {
              "color": "#E5ECF6",
              "width": 0.5
             },
             "pattern": {
              "fillmode": "overlay",
              "size": 10,
              "solidity": 0.2
             }
            },
            "type": "bar"
           }
          ],
          "barpolar": [
           {
            "marker": {
             "line": {
              "color": "#E5ECF6",
              "width": 0.5
             },
             "pattern": {
              "fillmode": "overlay",
              "size": 10,
              "solidity": 0.2
             }
            },
            "type": "barpolar"
           }
          ],
          "carpet": [
           {
            "aaxis": {
             "endlinecolor": "#2a3f5f",
             "gridcolor": "white",
             "linecolor": "white",
             "minorgridcolor": "white",
             "startlinecolor": "#2a3f5f"
            },
            "baxis": {
             "endlinecolor": "#2a3f5f",
             "gridcolor": "white",
             "linecolor": "white",
             "minorgridcolor": "white",
             "startlinecolor": "#2a3f5f"
            },
            "type": "carpet"
           }
          ],
          "choropleth": [
           {
            "colorbar": {
             "outlinewidth": 0,
             "ticks": ""
            },
            "type": "choropleth"
           }
          ],
          "contour": [
           {
            "colorbar": {
             "outlinewidth": 0,
             "ticks": ""
            },
            "colorscale": [
             [
              0,
              "#0d0887"
             ],
             [
              0.1111111111111111,
              "#46039f"
             ],
             [
              0.2222222222222222,
              "#7201a8"
             ],
             [
              0.3333333333333333,
              "#9c179e"
             ],
             [
              0.4444444444444444,
              "#bd3786"
             ],
             [
              0.5555555555555556,
              "#d8576b"
             ],
             [
              0.6666666666666666,
              "#ed7953"
             ],
             [
              0.7777777777777778,
              "#fb9f3a"
             ],
             [
              0.8888888888888888,
              "#fdca26"
             ],
             [
              1,
              "#f0f921"
             ]
            ],
            "type": "contour"
           }
          ],
          "contourcarpet": [
           {
            "colorbar": {
             "outlinewidth": 0,
             "ticks": ""
            },
            "type": "contourcarpet"
           }
          ],
          "heatmap": [
           {
            "colorbar": {
             "outlinewidth": 0,
             "ticks": ""
            },
            "colorscale": [
             [
              0,
              "#0d0887"
             ],
             [
              0.1111111111111111,
              "#46039f"
             ],
             [
              0.2222222222222222,
              "#7201a8"
             ],
             [
              0.3333333333333333,
              "#9c179e"
             ],
             [
              0.4444444444444444,
              "#bd3786"
             ],
             [
              0.5555555555555556,
              "#d8576b"
             ],
             [
              0.6666666666666666,
              "#ed7953"
             ],
             [
              0.7777777777777778,
              "#fb9f3a"
             ],
             [
              0.8888888888888888,
              "#fdca26"
             ],
             [
              1,
              "#f0f921"
             ]
            ],
            "type": "heatmap"
           }
          ],
          "histogram": [
           {
            "marker": {
             "pattern": {
              "fillmode": "overlay",
              "size": 10,
              "solidity": 0.2
             }
            },
            "type": "histogram"
           }
          ],
          "histogram2d": [
           {
            "colorbar": {
             "outlinewidth": 0,
             "ticks": ""
            },
            "colorscale": [
             [
              0,
              "#0d0887"
             ],
             [
              0.1111111111111111,
              "#46039f"
             ],
             [
              0.2222222222222222,
              "#7201a8"
             ],
             [
              0.3333333333333333,
              "#9c179e"
             ],
             [
              0.4444444444444444,
              "#bd3786"
             ],
             [
              0.5555555555555556,
              "#d8576b"
             ],
             [
              0.6666666666666666,
              "#ed7953"
             ],
             [
              0.7777777777777778,
              "#fb9f3a"
             ],
             [
              0.8888888888888888,
              "#fdca26"
             ],
             [
              1,
              "#f0f921"
             ]
            ],
            "type": "histogram2d"
           }
          ],
          "histogram2dcontour": [
           {
            "colorbar": {
             "outlinewidth": 0,
             "ticks": ""
            },
            "colorscale": [
             [
              0,
              "#0d0887"
             ],
             [
              0.1111111111111111,
              "#46039f"
             ],
             [
              0.2222222222222222,
              "#7201a8"
             ],
             [
              0.3333333333333333,
              "#9c179e"
             ],
             [
              0.4444444444444444,
              "#bd3786"
             ],
             [
              0.5555555555555556,
              "#d8576b"
             ],
             [
              0.6666666666666666,
              "#ed7953"
             ],
             [
              0.7777777777777778,
              "#fb9f3a"
             ],
             [
              0.8888888888888888,
              "#fdca26"
             ],
             [
              1,
              "#f0f921"
             ]
            ],
            "type": "histogram2dcontour"
           }
          ],
          "mesh3d": [
           {
            "colorbar": {
             "outlinewidth": 0,
             "ticks": ""
            },
            "type": "mesh3d"
           }
          ],
          "parcoords": [
           {
            "line": {
             "colorbar": {
              "outlinewidth": 0,
              "ticks": ""
             }
            },
            "type": "parcoords"
           }
          ],
          "pie": [
           {
            "automargin": true,
            "type": "pie"
           }
          ],
          "scatter": [
           {
            "fillpattern": {
             "fillmode": "overlay",
             "size": 10,
             "solidity": 0.2
            },
            "type": "scatter"
           }
          ],
          "scatter3d": [
           {
            "line": {
             "colorbar": {
              "outlinewidth": 0,
              "ticks": ""
             }
            },
            "marker": {
             "colorbar": {
              "outlinewidth": 0,
              "ticks": ""
             }
            },
            "type": "scatter3d"
           }
          ],
          "scattercarpet": [
           {
            "marker": {
             "colorbar": {
              "outlinewidth": 0,
              "ticks": ""
             }
            },
            "type": "scattercarpet"
           }
          ],
          "scattergeo": [
           {
            "marker": {
             "colorbar": {
              "outlinewidth": 0,
              "ticks": ""
             }
            },
            "type": "scattergeo"
           }
          ],
          "scattergl": [
           {
            "marker": {
             "colorbar": {
              "outlinewidth": 0,
              "ticks": ""
             }
            },
            "type": "scattergl"
           }
          ],
          "scattermap": [
           {
            "marker": {
             "colorbar": {
              "outlinewidth": 0,
              "ticks": ""
             }
            },
            "type": "scattermap"
           }
          ],
          "scattermapbox": [
           {
            "marker": {
             "colorbar": {
              "outlinewidth": 0,
              "ticks": ""
             }
            },
            "type": "scattermapbox"
           }
          ],
          "scatterpolar": [
           {
            "marker": {
             "colorbar": {
              "outlinewidth": 0,
              "ticks": ""
             }
            },
            "type": "scatterpolar"
           }
          ],
          "scatterpolargl": [
           {
            "marker": {
             "colorbar": {
              "outlinewidth": 0,
              "ticks": ""
             }
            },
            "type": "scatterpolargl"
           }
          ],
          "scatterternary": [
           {
            "marker": {
             "colorbar": {
              "outlinewidth": 0,
              "ticks": ""
             }
            },
            "type": "scatterternary"
           }
          ],
          "surface": [
           {
            "colorbar": {
             "outlinewidth": 0,
             "ticks": ""
            },
            "colorscale": [
             [
              0,
              "#0d0887"
             ],
             [
              0.1111111111111111,
              "#46039f"
             ],
             [
              0.2222222222222222,
              "#7201a8"
             ],
             [
              0.3333333333333333,
              "#9c179e"
             ],
             [
              0.4444444444444444,
              "#bd3786"
             ],
             [
              0.5555555555555556,
              "#d8576b"
             ],
             [
              0.6666666666666666,
              "#ed7953"
             ],
             [
              0.7777777777777778,
              "#fb9f3a"
             ],
             [
              0.8888888888888888,
              "#fdca26"
             ],
             [
              1,
              "#f0f921"
             ]
            ],
            "type": "surface"
           }
          ],
          "table": [
           {
            "cells": {
             "fill": {
              "color": "#EBF0F8"
             },
             "line": {
              "color": "white"
             }
            },
            "header": {
             "fill": {
              "color": "#C8D4E3"
             },
             "line": {
              "color": "white"
             }
            },
            "type": "table"
           }
          ]
         },
         "layout": {
          "annotationdefaults": {
           "arrowcolor": "#2a3f5f",
           "arrowhead": 0,
           "arrowwidth": 1
          },
          "autotypenumbers": "strict",
          "coloraxis": {
           "colorbar": {
            "outlinewidth": 0,
            "ticks": ""
           }
          },
          "colorscale": {
           "diverging": [
            [
             0,
             "#8e0152"
            ],
            [
             0.1,
             "#c51b7d"
            ],
            [
             0.2,
             "#de77ae"
            ],
            [
             0.3,
             "#f1b6da"
            ],
            [
             0.4,
             "#fde0ef"
            ],
            [
             0.5,
             "#f7f7f7"
            ],
            [
             0.6,
             "#e6f5d0"
            ],
            [
             0.7,
             "#b8e186"
            ],
            [
             0.8,
             "#7fbc41"
            ],
            [
             0.9,
             "#4d9221"
            ],
            [
             1,
             "#276419"
            ]
           ],
           "sequential": [
            [
             0,
             "#0d0887"
            ],
            [
             0.1111111111111111,
             "#46039f"
            ],
            [
             0.2222222222222222,
             "#7201a8"
            ],
            [
             0.3333333333333333,
             "#9c179e"
            ],
            [
             0.4444444444444444,
             "#bd3786"
            ],
            [
             0.5555555555555556,
             "#d8576b"
            ],
            [
             0.6666666666666666,
             "#ed7953"
            ],
            [
             0.7777777777777778,
             "#fb9f3a"
            ],
            [
             0.8888888888888888,
             "#fdca26"
            ],
            [
             1,
             "#f0f921"
            ]
           ],
           "sequentialminus": [
            [
             0,
             "#0d0887"
            ],
            [
             0.1111111111111111,
             "#46039f"
            ],
            [
             0.2222222222222222,
             "#7201a8"
            ],
            [
             0.3333333333333333,
             "#9c179e"
            ],
            [
             0.4444444444444444,
             "#bd3786"
            ],
            [
             0.5555555555555556,
             "#d8576b"
            ],
            [
             0.6666666666666666,
             "#ed7953"
            ],
            [
             0.7777777777777778,
             "#fb9f3a"
            ],
            [
             0.8888888888888888,
             "#fdca26"
            ],
            [
             1,
             "#f0f921"
            ]
           ]
          },
          "colorway": [
           "#636efa",
           "#EF553B",
           "#00cc96",
           "#ab63fa",
           "#FFA15A",
           "#19d3f3",
           "#FF6692",
           "#B6E880",
           "#FF97FF",
           "#FECB52"
          ],
          "font": {
           "color": "#2a3f5f"
          },
          "geo": {
           "bgcolor": "white",
           "lakecolor": "white",
           "landcolor": "#E5ECF6",
           "showlakes": true,
           "showland": true,
           "subunitcolor": "white"
          },
          "hoverlabel": {
           "align": "left"
          },
          "hovermode": "closest",
          "mapbox": {
           "style": "light"
          },
          "paper_bgcolor": "white",
          "plot_bgcolor": "#E5ECF6",
          "polar": {
           "angularaxis": {
            "gridcolor": "white",
            "linecolor": "white",
            "ticks": ""
           },
           "bgcolor": "#E5ECF6",
           "radialaxis": {
            "gridcolor": "white",
            "linecolor": "white",
            "ticks": ""
           }
          },
          "scene": {
           "xaxis": {
            "backgroundcolor": "#E5ECF6",
            "gridcolor": "white",
            "gridwidth": 2,
            "linecolor": "white",
            "showbackground": true,
            "ticks": "",
            "zerolinecolor": "white"
           },
           "yaxis": {
            "backgroundcolor": "#E5ECF6",
            "gridcolor": "white",
            "gridwidth": 2,
            "linecolor": "white",
            "showbackground": true,
            "ticks": "",
            "zerolinecolor": "white"
           },
           "zaxis": {
            "backgroundcolor": "#E5ECF6",
            "gridcolor": "white",
            "gridwidth": 2,
            "linecolor": "white",
            "showbackground": true,
            "ticks": "",
            "zerolinecolor": "white"
           }
          },
          "shapedefaults": {
           "line": {
            "color": "#2a3f5f"
           }
          },
          "ternary": {
           "aaxis": {
            "gridcolor": "white",
            "linecolor": "white",
            "ticks": ""
           },
           "baxis": {
            "gridcolor": "white",
            "linecolor": "white",
            "ticks": ""
           },
           "bgcolor": "#E5ECF6",
           "caxis": {
            "gridcolor": "white",
            "linecolor": "white",
            "ticks": ""
           }
          },
          "title": {
           "x": 0.05
          },
          "xaxis": {
           "automargin": true,
           "gridcolor": "white",
           "linecolor": "white",
           "ticks": "",
           "title": {
            "standoff": 15
           },
           "zerolinecolor": "white",
           "zerolinewidth": 2
          },
          "yaxis": {
           "automargin": true,
           "gridcolor": "white",
           "linecolor": "white",
           "ticks": "",
           "title": {
            "standoff": 15
           },
           "zerolinecolor": "white",
           "zerolinewidth": 2
          }
         }
        },
        "title": {
         "text": "Student Survey Completion Status (AM)"
        },
        "xaxis": {
         "anchor": "y",
         "domain": [
          0,
          1
         ],
         "tickformat": ".0%",
         "tickvals": [
          0,
          0.1,
          0.2,
          0.3,
          0.4,
          0.5,
          0.6,
          0.7,
          0.8,
          0.9,
          1
         ],
         "title": {
          "text": "Percentage"
         }
        },
        "yaxis": {
         "anchor": "x",
         "domain": [
          0,
          1
         ],
         "title": {
          "text": "count"
         }
        }
       }
      }
     },
     "metadata": {},
     "output_type": "display_data"
    }
   ],
   "source": [
    "import plotly.express as px\n",
    "\n",
    "fig = px.histogram(am_data_0627[\"Correct Percentage\"].dropna(), title=\"Student Survey Completion Status (AM)\", nbins=20, text_auto=True, color_discrete_sequence=['darkred'] )\n",
    "fig.update_layout(bargap=0.2)\n",
    "fig.update_xaxes(tickvals=[0,0.1,0.2,0.3,0.4,0.5,0.6,0.7,0.8,0.9,1])\n",
    "fig.update_layout(\n",
    "    xaxis=dict(\n",
    "        tickformat=\".0%\",  # Formats as percentage with no decimal places\n",
    "        title=\"Percentage\"\n",
    "    ),\n",
    ")\n",
    "fig.show()\n",
    "\n",
    "\n"
   ]
  },
  {
   "cell_type": "code",
   "execution_count": 49,
   "id": "f3fedae9",
   "metadata": {},
   "outputs": [
    {
     "data": {
      "application/vnd.plotly.v1+json": {
       "config": {
        "plotlyServerURL": "https://plot.ly"
       },
       "data": [
        {
         "bingroup": "x",
         "hovertemplate": "variable=Correct Percentage<br>value=%{x}<br>count=%{y}<extra></extra>",
         "legendgroup": "Correct Percentage",
         "marker": {
          "color": "darkred",
          "pattern": {
           "shape": ""
          }
         },
         "name": "Correct Percentage",
         "nbinsx": 20,
         "orientation": "v",
         "showlegend": true,
         "texttemplate": "%{value}",
         "type": "histogram",
         "x": {
          "bdata": "AAAAAAAA8D8AAAAAAADwPw5J2d3d3e0/AAAAAAAA8D/pXn+IiIjYP5qZmZmZmek/AAAAAAAA8D+n4nJ3d3fvPwAAAAAAAPA/mpmZmZmZ4T/NzMzMzMzsPzMzMzMzM+M/AAAAAAAA8D8AAAAAAADwPwAAAAAAAPA/AAAAAAAA8D8AAAAAAAAAAJqZmZmZmeE/DknZ3d3d7T/kbU1ERETUPwAAAAAAAPA/p+Jyd3d35z8AAAAAAADwPwAAAAAAAOg/mpmZmZmZ6T8AAAAAAADwPwAAAAAAAPA/gvgYIiIi0j8AAAAAAADgPwAAAAAAAPA/ZmZmZmZm5j8AAAAAAAAAAAAAAAAAAAAAF6GAd3d31z8AAAAAAADoPwAAAAAAAPA/5G1NRERE1D8AAAAAAADwPwAAAAAAAPA/AAAAAAAA8D/bFaaqqqrqP9sVpqqqquo/AAAAAAAA8D+/g/Pu7u7uPzgkZXd3d8c/DknZ3d3d7T8AAAAAAADwP6ficnd3d+c/AAAAAAAAAABmZmZmZmbuP5qZmZmZmek/AAAAAAAA8D8OSdnd3d3tP4xQwLu7u+s/mpmZmZmZ6T+MUMC7u7vrP5qZmZmZmek/AAAAAAAA8D8OSdnd3d3tPwAAAAAAAPA/HJKyu7u72z8l6llVVVXtP83MzMzMzOQ/p+Jyd3d35z/bFaaqqqrqP1kdjYiIiOg/0b3+EBERwT84JGV3d3fHP0F8DBEREek/v4Pz7u7u5j+RvAkRERGhPwAAAAAAAAAA0b3+EBERwT84JGV3d3fHPxWrUVVVVbU/OCRld3d3xz84JGV3d3fHPxWrUVVVVbU/",
          "dtype": "f8"
         },
         "xaxis": "x",
         "yaxis": "y"
        }
       ],
       "layout": {
        "bargap": 0.2,
        "barmode": "relative",
        "legend": {
         "title": {
          "text": "variable"
         },
         "tracegroupgap": 0
        },
        "template": {
         "data": {
          "bar": [
           {
            "error_x": {
             "color": "#2a3f5f"
            },
            "error_y": {
             "color": "#2a3f5f"
            },
            "marker": {
             "line": {
              "color": "#E5ECF6",
              "width": 0.5
             },
             "pattern": {
              "fillmode": "overlay",
              "size": 10,
              "solidity": 0.2
             }
            },
            "type": "bar"
           }
          ],
          "barpolar": [
           {
            "marker": {
             "line": {
              "color": "#E5ECF6",
              "width": 0.5
             },
             "pattern": {
              "fillmode": "overlay",
              "size": 10,
              "solidity": 0.2
             }
            },
            "type": "barpolar"
           }
          ],
          "carpet": [
           {
            "aaxis": {
             "endlinecolor": "#2a3f5f",
             "gridcolor": "white",
             "linecolor": "white",
             "minorgridcolor": "white",
             "startlinecolor": "#2a3f5f"
            },
            "baxis": {
             "endlinecolor": "#2a3f5f",
             "gridcolor": "white",
             "linecolor": "white",
             "minorgridcolor": "white",
             "startlinecolor": "#2a3f5f"
            },
            "type": "carpet"
           }
          ],
          "choropleth": [
           {
            "colorbar": {
             "outlinewidth": 0,
             "ticks": ""
            },
            "type": "choropleth"
           }
          ],
          "contour": [
           {
            "colorbar": {
             "outlinewidth": 0,
             "ticks": ""
            },
            "colorscale": [
             [
              0,
              "#0d0887"
             ],
             [
              0.1111111111111111,
              "#46039f"
             ],
             [
              0.2222222222222222,
              "#7201a8"
             ],
             [
              0.3333333333333333,
              "#9c179e"
             ],
             [
              0.4444444444444444,
              "#bd3786"
             ],
             [
              0.5555555555555556,
              "#d8576b"
             ],
             [
              0.6666666666666666,
              "#ed7953"
             ],
             [
              0.7777777777777778,
              "#fb9f3a"
             ],
             [
              0.8888888888888888,
              "#fdca26"
             ],
             [
              1,
              "#f0f921"
             ]
            ],
            "type": "contour"
           }
          ],
          "contourcarpet": [
           {
            "colorbar": {
             "outlinewidth": 0,
             "ticks": ""
            },
            "type": "contourcarpet"
           }
          ],
          "heatmap": [
           {
            "colorbar": {
             "outlinewidth": 0,
             "ticks": ""
            },
            "colorscale": [
             [
              0,
              "#0d0887"
             ],
             [
              0.1111111111111111,
              "#46039f"
             ],
             [
              0.2222222222222222,
              "#7201a8"
             ],
             [
              0.3333333333333333,
              "#9c179e"
             ],
             [
              0.4444444444444444,
              "#bd3786"
             ],
             [
              0.5555555555555556,
              "#d8576b"
             ],
             [
              0.6666666666666666,
              "#ed7953"
             ],
             [
              0.7777777777777778,
              "#fb9f3a"
             ],
             [
              0.8888888888888888,
              "#fdca26"
             ],
             [
              1,
              "#f0f921"
             ]
            ],
            "type": "heatmap"
           }
          ],
          "histogram": [
           {
            "marker": {
             "pattern": {
              "fillmode": "overlay",
              "size": 10,
              "solidity": 0.2
             }
            },
            "type": "histogram"
           }
          ],
          "histogram2d": [
           {
            "colorbar": {
             "outlinewidth": 0,
             "ticks": ""
            },
            "colorscale": [
             [
              0,
              "#0d0887"
             ],
             [
              0.1111111111111111,
              "#46039f"
             ],
             [
              0.2222222222222222,
              "#7201a8"
             ],
             [
              0.3333333333333333,
              "#9c179e"
             ],
             [
              0.4444444444444444,
              "#bd3786"
             ],
             [
              0.5555555555555556,
              "#d8576b"
             ],
             [
              0.6666666666666666,
              "#ed7953"
             ],
             [
              0.7777777777777778,
              "#fb9f3a"
             ],
             [
              0.8888888888888888,
              "#fdca26"
             ],
             [
              1,
              "#f0f921"
             ]
            ],
            "type": "histogram2d"
           }
          ],
          "histogram2dcontour": [
           {
            "colorbar": {
             "outlinewidth": 0,
             "ticks": ""
            },
            "colorscale": [
             [
              0,
              "#0d0887"
             ],
             [
              0.1111111111111111,
              "#46039f"
             ],
             [
              0.2222222222222222,
              "#7201a8"
             ],
             [
              0.3333333333333333,
              "#9c179e"
             ],
             [
              0.4444444444444444,
              "#bd3786"
             ],
             [
              0.5555555555555556,
              "#d8576b"
             ],
             [
              0.6666666666666666,
              "#ed7953"
             ],
             [
              0.7777777777777778,
              "#fb9f3a"
             ],
             [
              0.8888888888888888,
              "#fdca26"
             ],
             [
              1,
              "#f0f921"
             ]
            ],
            "type": "histogram2dcontour"
           }
          ],
          "mesh3d": [
           {
            "colorbar": {
             "outlinewidth": 0,
             "ticks": ""
            },
            "type": "mesh3d"
           }
          ],
          "parcoords": [
           {
            "line": {
             "colorbar": {
              "outlinewidth": 0,
              "ticks": ""
             }
            },
            "type": "parcoords"
           }
          ],
          "pie": [
           {
            "automargin": true,
            "type": "pie"
           }
          ],
          "scatter": [
           {
            "fillpattern": {
             "fillmode": "overlay",
             "size": 10,
             "solidity": 0.2
            },
            "type": "scatter"
           }
          ],
          "scatter3d": [
           {
            "line": {
             "colorbar": {
              "outlinewidth": 0,
              "ticks": ""
             }
            },
            "marker": {
             "colorbar": {
              "outlinewidth": 0,
              "ticks": ""
             }
            },
            "type": "scatter3d"
           }
          ],
          "scattercarpet": [
           {
            "marker": {
             "colorbar": {
              "outlinewidth": 0,
              "ticks": ""
             }
            },
            "type": "scattercarpet"
           }
          ],
          "scattergeo": [
           {
            "marker": {
             "colorbar": {
              "outlinewidth": 0,
              "ticks": ""
             }
            },
            "type": "scattergeo"
           }
          ],
          "scattergl": [
           {
            "marker": {
             "colorbar": {
              "outlinewidth": 0,
              "ticks": ""
             }
            },
            "type": "scattergl"
           }
          ],
          "scattermap": [
           {
            "marker": {
             "colorbar": {
              "outlinewidth": 0,
              "ticks": ""
             }
            },
            "type": "scattermap"
           }
          ],
          "scattermapbox": [
           {
            "marker": {
             "colorbar": {
              "outlinewidth": 0,
              "ticks": ""
             }
            },
            "type": "scattermapbox"
           }
          ],
          "scatterpolar": [
           {
            "marker": {
             "colorbar": {
              "outlinewidth": 0,
              "ticks": ""
             }
            },
            "type": "scatterpolar"
           }
          ],
          "scatterpolargl": [
           {
            "marker": {
             "colorbar": {
              "outlinewidth": 0,
              "ticks": ""
             }
            },
            "type": "scatterpolargl"
           }
          ],
          "scatterternary": [
           {
            "marker": {
             "colorbar": {
              "outlinewidth": 0,
              "ticks": ""
             }
            },
            "type": "scatterternary"
           }
          ],
          "surface": [
           {
            "colorbar": {
             "outlinewidth": 0,
             "ticks": ""
            },
            "colorscale": [
             [
              0,
              "#0d0887"
             ],
             [
              0.1111111111111111,
              "#46039f"
             ],
             [
              0.2222222222222222,
              "#7201a8"
             ],
             [
              0.3333333333333333,
              "#9c179e"
             ],
             [
              0.4444444444444444,
              "#bd3786"
             ],
             [
              0.5555555555555556,
              "#d8576b"
             ],
             [
              0.6666666666666666,
              "#ed7953"
             ],
             [
              0.7777777777777778,
              "#fb9f3a"
             ],
             [
              0.8888888888888888,
              "#fdca26"
             ],
             [
              1,
              "#f0f921"
             ]
            ],
            "type": "surface"
           }
          ],
          "table": [
           {
            "cells": {
             "fill": {
              "color": "#EBF0F8"
             },
             "line": {
              "color": "white"
             }
            },
            "header": {
             "fill": {
              "color": "#C8D4E3"
             },
             "line": {
              "color": "white"
             }
            },
            "type": "table"
           }
          ]
         },
         "layout": {
          "annotationdefaults": {
           "arrowcolor": "#2a3f5f",
           "arrowhead": 0,
           "arrowwidth": 1
          },
          "autotypenumbers": "strict",
          "coloraxis": {
           "colorbar": {
            "outlinewidth": 0,
            "ticks": ""
           }
          },
          "colorscale": {
           "diverging": [
            [
             0,
             "#8e0152"
            ],
            [
             0.1,
             "#c51b7d"
            ],
            [
             0.2,
             "#de77ae"
            ],
            [
             0.3,
             "#f1b6da"
            ],
            [
             0.4,
             "#fde0ef"
            ],
            [
             0.5,
             "#f7f7f7"
            ],
            [
             0.6,
             "#e6f5d0"
            ],
            [
             0.7,
             "#b8e186"
            ],
            [
             0.8,
             "#7fbc41"
            ],
            [
             0.9,
             "#4d9221"
            ],
            [
             1,
             "#276419"
            ]
           ],
           "sequential": [
            [
             0,
             "#0d0887"
            ],
            [
             0.1111111111111111,
             "#46039f"
            ],
            [
             0.2222222222222222,
             "#7201a8"
            ],
            [
             0.3333333333333333,
             "#9c179e"
            ],
            [
             0.4444444444444444,
             "#bd3786"
            ],
            [
             0.5555555555555556,
             "#d8576b"
            ],
            [
             0.6666666666666666,
             "#ed7953"
            ],
            [
             0.7777777777777778,
             "#fb9f3a"
            ],
            [
             0.8888888888888888,
             "#fdca26"
            ],
            [
             1,
             "#f0f921"
            ]
           ],
           "sequentialminus": [
            [
             0,
             "#0d0887"
            ],
            [
             0.1111111111111111,
             "#46039f"
            ],
            [
             0.2222222222222222,
             "#7201a8"
            ],
            [
             0.3333333333333333,
             "#9c179e"
            ],
            [
             0.4444444444444444,
             "#bd3786"
            ],
            [
             0.5555555555555556,
             "#d8576b"
            ],
            [
             0.6666666666666666,
             "#ed7953"
            ],
            [
             0.7777777777777778,
             "#fb9f3a"
            ],
            [
             0.8888888888888888,
             "#fdca26"
            ],
            [
             1,
             "#f0f921"
            ]
           ]
          },
          "colorway": [
           "#636efa",
           "#EF553B",
           "#00cc96",
           "#ab63fa",
           "#FFA15A",
           "#19d3f3",
           "#FF6692",
           "#B6E880",
           "#FF97FF",
           "#FECB52"
          ],
          "font": {
           "color": "#2a3f5f"
          },
          "geo": {
           "bgcolor": "white",
           "lakecolor": "white",
           "landcolor": "#E5ECF6",
           "showlakes": true,
           "showland": true,
           "subunitcolor": "white"
          },
          "hoverlabel": {
           "align": "left"
          },
          "hovermode": "closest",
          "mapbox": {
           "style": "light"
          },
          "paper_bgcolor": "white",
          "plot_bgcolor": "#E5ECF6",
          "polar": {
           "angularaxis": {
            "gridcolor": "white",
            "linecolor": "white",
            "ticks": ""
           },
           "bgcolor": "#E5ECF6",
           "radialaxis": {
            "gridcolor": "white",
            "linecolor": "white",
            "ticks": ""
           }
          },
          "scene": {
           "xaxis": {
            "backgroundcolor": "#E5ECF6",
            "gridcolor": "white",
            "gridwidth": 2,
            "linecolor": "white",
            "showbackground": true,
            "ticks": "",
            "zerolinecolor": "white"
           },
           "yaxis": {
            "backgroundcolor": "#E5ECF6",
            "gridcolor": "white",
            "gridwidth": 2,
            "linecolor": "white",
            "showbackground": true,
            "ticks": "",
            "zerolinecolor": "white"
           },
           "zaxis": {
            "backgroundcolor": "#E5ECF6",
            "gridcolor": "white",
            "gridwidth": 2,
            "linecolor": "white",
            "showbackground": true,
            "ticks": "",
            "zerolinecolor": "white"
           }
          },
          "shapedefaults": {
           "line": {
            "color": "#2a3f5f"
           }
          },
          "ternary": {
           "aaxis": {
            "gridcolor": "white",
            "linecolor": "white",
            "ticks": ""
           },
           "baxis": {
            "gridcolor": "white",
            "linecolor": "white",
            "ticks": ""
           },
           "bgcolor": "#E5ECF6",
           "caxis": {
            "gridcolor": "white",
            "linecolor": "white",
            "ticks": ""
           }
          },
          "title": {
           "x": 0.05
          },
          "xaxis": {
           "automargin": true,
           "gridcolor": "white",
           "linecolor": "white",
           "ticks": "",
           "title": {
            "standoff": 15
           },
           "zerolinecolor": "white",
           "zerolinewidth": 2
          },
          "yaxis": {
           "automargin": true,
           "gridcolor": "white",
           "linecolor": "white",
           "ticks": "",
           "title": {
            "standoff": 15
           },
           "zerolinecolor": "white",
           "zerolinewidth": 2
          }
         }
        },
        "title": {
         "text": "Student Survey Completion Status (PM)"
        },
        "xaxis": {
         "anchor": "y",
         "domain": [
          0,
          1
         ],
         "tickformat": ".0%",
         "tickvals": [
          0,
          0.1,
          0.2,
          0.3,
          0.4,
          0.5,
          0.6,
          0.7,
          0.8,
          0.9,
          1
         ],
         "title": {
          "text": "Percentage"
         }
        },
        "yaxis": {
         "anchor": "x",
         "domain": [
          0,
          1
         ],
         "title": {
          "text": "count"
         }
        }
       }
      }
     },
     "metadata": {},
     "output_type": "display_data"
    }
   ],
   "source": [
    "import plotly.express as px\n",
    "\n",
    "fig = px.histogram(pm_data_0627[\"Correct Percentage\"].dropna(), title=\"Student Survey Completion Status (PM)\", nbins=20, text_auto=True, color_discrete_sequence=['darkred'])\n",
    "fig.update_layout(bargap=0.2)\n",
    "fig.update_xaxes(tickvals=[0,0.1,0.2,0.3,0.4,0.5,0.6,0.7,0.8,0.9,1])\n",
    "fig.update_layout(\n",
    "    xaxis=dict(\n",
    "        tickformat=\".0%\",  # Formats as percentage with no decimal places\n",
    "        title=\"Percentage\"\n",
    "    ),\n",
    ")\n",
    "fig.show()\n",
    "\n",
    "\n"
   ]
  },
  {
   "cell_type": "code",
   "execution_count": 52,
   "id": "53919053",
   "metadata": {},
   "outputs": [],
   "source": [
    "JU27M = pd.read_csv(\"/Users/jasonlin/Downloads/SASI_data/2025/SASI 2025 Course Results - JU27M.csv\")\n"
   ]
  },
  {
   "cell_type": "code",
   "execution_count": 53,
   "id": "911185da",
   "metadata": {},
   "outputs": [
    {
     "data": {
      "text/html": [
       "<div>\n",
       "<style scoped>\n",
       "    .dataframe tbody tr th:only-of-type {\n",
       "        vertical-align: middle;\n",
       "    }\n",
       "\n",
       "    .dataframe tbody tr th {\n",
       "        vertical-align: top;\n",
       "    }\n",
       "\n",
       "    .dataframe thead th {\n",
       "        text-align: right;\n",
       "    }\n",
       "</style>\n",
       "<table border=\"1\" class=\"dataframe\">\n",
       "  <thead>\n",
       "    <tr style=\"text-align: right;\">\n",
       "      <th></th>\n",
       "      <th>Q6 Logistics</th>\n",
       "      <th>Q10 Quality</th>\n",
       "      <th>Q21 Workload</th>\n",
       "      <th>Q27 Instructor Effective</th>\n",
       "      <th>Q38 Understand Healthcare</th>\n",
       "      <th>Q57 MIR icebreaker</th>\n",
       "      <th>Q59 MIR office hours</th>\n",
       "      <th>Q48 3 works</th>\n",
       "      <th>Q50 Aiding</th>\n",
       "      <th>Q52 Changes</th>\n",
       "      <th>Q51 3 things</th>\n",
       "    </tr>\n",
       "  </thead>\n",
       "  <tbody>\n",
       "    <tr>\n",
       "      <th>0</th>\n",
       "      <td>No- onboarding was great!</td>\n",
       "      <td>Meeting</td>\n",
       "      <td>Strongly Agree</td>\n",
       "      <td>Agree</td>\n",
       "      <td>Strongly Agree</td>\n",
       "      <td>Yes</td>\n",
       "      <td>Yes</td>\n",
       "      <td>I really like the mini group projects with our...</td>\n",
       "      <td>Capstone groups</td>\n",
       "      <td>Having icebreaker stuff or like team bonding w...</td>\n",
       "      <td>1) I would have the class subjects tie more cl...</td>\n",
       "    </tr>\n",
       "    <tr>\n",
       "      <th>1</th>\n",
       "      <td>NaN</td>\n",
       "      <td>Meeting</td>\n",
       "      <td>Agree</td>\n",
       "      <td>Strongly Agree</td>\n",
       "      <td>Agree</td>\n",
       "      <td>No</td>\n",
       "      <td>Yes</td>\n",
       "      <td>Engaging lectures</td>\n",
       "      <td>Lectures</td>\n",
       "      <td>NaN</td>\n",
       "      <td>More breaks</td>\n",
       "    </tr>\n",
       "    <tr>\n",
       "      <th>2</th>\n",
       "      <td>making how to get parking permit instructions ...</td>\n",
       "      <td>Exceeding</td>\n",
       "      <td>Agree</td>\n",
       "      <td>Agree</td>\n",
       "      <td>Strongly Agree</td>\n",
       "      <td>No</td>\n",
       "      <td>No</td>\n",
       "      <td>the hands on activities, many different aspect...</td>\n",
       "      <td>speakers and seeing different realms of medicine</td>\n",
       "      <td>nothing</td>\n",
       "      <td>nothing</td>\n",
       "    </tr>\n",
       "    <tr>\n",
       "      <th>3</th>\n",
       "      <td>Providing the information earlier</td>\n",
       "      <td>Meeting</td>\n",
       "      <td>Agree</td>\n",
       "      <td>Strongly Agree</td>\n",
       "      <td>Strongly Agree</td>\n",
       "      <td>No</td>\n",
       "      <td>No</td>\n",
       "      <td>The ability to communicate with them easily.</td>\n",
       "      <td>Simulations and hands-on activities</td>\n",
       "      <td>None :)</td>\n",
       "      <td>Less instruction and more time for hands-on ac...</td>\n",
       "    </tr>\n",
       "    <tr>\n",
       "      <th>4</th>\n",
       "      <td>No not really</td>\n",
       "      <td>Exceeding</td>\n",
       "      <td>Agree</td>\n",
       "      <td>Agree</td>\n",
       "      <td>Agree</td>\n",
       "      <td>Maybe</td>\n",
       "      <td>Maybe</td>\n",
       "      <td>The instructors are always ready to answer any...</td>\n",
       "      <td>The suturing course and emergency medicine lec...</td>\n",
       "      <td>I think if the lectures were a little bit fast...</td>\n",
       "      <td>Maybe they could go around and ask if anyone n...</td>\n",
       "    </tr>\n",
       "    <tr>\n",
       "      <th>5</th>\n",
       "      <td>I really liked all lectures and they helped me...</td>\n",
       "      <td>Meeting</td>\n",
       "      <td>Somewhat agree</td>\n",
       "      <td>Agree</td>\n",
       "      <td>Strongly Agree</td>\n",
       "      <td>Yes</td>\n",
       "      <td>Yes</td>\n",
       "      <td>1. Hands on activities really give me an oppor...</td>\n",
       "      <td>Lessons that effectively teach knowledge or ha...</td>\n",
       "      <td>Make lectures more interactive.</td>\n",
       "      <td>1. I want more time for questions after each l...</td>\n",
       "    </tr>\n",
       "    <tr>\n",
       "      <th>6</th>\n",
       "      <td>No</td>\n",
       "      <td>Meeting</td>\n",
       "      <td>Somewhat agree</td>\n",
       "      <td>Agree</td>\n",
       "      <td>Agree</td>\n",
       "      <td>No</td>\n",
       "      <td>Maybe</td>\n",
       "      <td>Allow time for questions, and let us answer th...</td>\n",
       "      <td>The interactive activities</td>\n",
       "      <td>Later starts</td>\n",
       "      <td>Maybe cut down on the personal narrative, writing</td>\n",
       "    </tr>\n",
       "    <tr>\n",
       "      <th>7</th>\n",
       "      <td>Have the slides and content available</td>\n",
       "      <td>Meeting</td>\n",
       "      <td>Somewhat agree</td>\n",
       "      <td>Agree</td>\n",
       "      <td>Agree</td>\n",
       "      <td>Yes</td>\n",
       "      <td>Yes</td>\n",
       "      <td>I learnt more about the medical field, its cli...</td>\n",
       "      <td>I like the clinical applications, capstone, an...</td>\n",
       "      <td>I would like more clinical applications and mo...</td>\n",
       "      <td>I would like more interesting lectures, some t...</td>\n",
       "    </tr>\n",
       "    <tr>\n",
       "      <th>8</th>\n",
       "      <td>Nothing</td>\n",
       "      <td>Below</td>\n",
       "      <td>Strongly disagree</td>\n",
       "      <td>Neither agree nor disagree</td>\n",
       "      <td>Neither agree nor disagree</td>\n",
       "      <td>Yes</td>\n",
       "      <td>No</td>\n",
       "      <td>New concepts new people and new ideas</td>\n",
       "      <td>The tours</td>\n",
       "      <td>Better time management</td>\n",
       "      <td>Better time management and letting all student...</td>\n",
       "    </tr>\n",
       "    <tr>\n",
       "      <th>9</th>\n",
       "      <td>Maybe explain more what the focus of the progr...</td>\n",
       "      <td>Meeting</td>\n",
       "      <td>Agree</td>\n",
       "      <td>Somewhat agree</td>\n",
       "      <td>Neither agree nor disagree</td>\n",
       "      <td>No</td>\n",
       "      <td>No</td>\n",
       "      <td>Engaging things, images and examples</td>\n",
       "      <td>The professors</td>\n",
       "      <td>Better lunch</td>\n",
       "      <td>Less repetitive, more breaks (with actual snacks)</td>\n",
       "    </tr>\n",
       "    <tr>\n",
       "      <th>10</th>\n",
       "      <td>I think i knew everything i needed to.</td>\n",
       "      <td>Meeting</td>\n",
       "      <td>Strongly Agree</td>\n",
       "      <td>Strongly Agree</td>\n",
       "      <td>Strongly Agree</td>\n",
       "      <td>No</td>\n",
       "      <td>Maybe</td>\n",
       "      <td>The MIRs are all chill and friendly, the lectu...</td>\n",
       "      <td>The lectures and asking the MiRs</td>\n",
       "      <td>Lowk, I should eat a lot more then i do rn whi...</td>\n",
       "      <td>More time doing independent work. I was surpri...</td>\n",
       "    </tr>\n",
       "    <tr>\n",
       "      <th>11</th>\n",
       "      <td>I feel as if there should be less repetitive l...</td>\n",
       "      <td>Meeting</td>\n",
       "      <td>Somewhat agree</td>\n",
       "      <td>Agree</td>\n",
       "      <td>Agree</td>\n",
       "      <td>Maybe</td>\n",
       "      <td>Maybe</td>\n",
       "      <td>I would say collaborating, being organized, an...</td>\n",
       "      <td>Helpful hands on experiments.</td>\n",
       "      <td>I would recommend making lectures less repetit...</td>\n",
       "      <td>I feel as if having more simulations and hands...</td>\n",
       "    </tr>\n",
       "    <tr>\n",
       "      <th>12</th>\n",
       "      <td>Nope!</td>\n",
       "      <td>Exceeding</td>\n",
       "      <td>Strongly Agree</td>\n",
       "      <td>Agree</td>\n",
       "      <td>Strongly Agree</td>\n",
       "      <td>Yes</td>\n",
       "      <td>Yes</td>\n",
       "      <td>I feel everyone, especially the MIR’s, is welc...</td>\n",
       "      <td>The lectures are definitely fueling my learnin...</td>\n",
       "      <td>Maybe more time in lectures that focus on prim...</td>\n",
       "      <td>I can’t think of anything.</td>\n",
       "    </tr>\n",
       "    <tr>\n",
       "      <th>13</th>\n",
       "      <td>So far so good!!!</td>\n",
       "      <td>Exceeding</td>\n",
       "      <td>Strongly Agree</td>\n",
       "      <td>Strongly Agree</td>\n",
       "      <td>Strongly Agree</td>\n",
       "      <td>Maybe</td>\n",
       "      <td>Maybe</td>\n",
       "      <td>The welcoming environment and the engaging del...</td>\n",
       "      <td>The hands-on experiences.</td>\n",
       "      <td>All good!!</td>\n",
       "      <td>Nothing to complain!</td>\n",
       "    </tr>\n",
       "    <tr>\n",
       "      <th>14</th>\n",
       "      <td>no</td>\n",
       "      <td>Exceeding</td>\n",
       "      <td>Strongly Agree</td>\n",
       "      <td>Strongly Agree</td>\n",
       "      <td>Strongly Agree</td>\n",
       "      <td>Maybe</td>\n",
       "      <td>Maybe</td>\n",
       "      <td>The instructors make the content easy to under...</td>\n",
       "      <td>The hands-on aspects are amazing.</td>\n",
       "      <td>less lectures and more active learning</td>\n",
       "      <td>NaN</td>\n",
       "    </tr>\n",
       "    <tr>\n",
       "      <th>15</th>\n",
       "      <td>NaN</td>\n",
       "      <td>Exceeding</td>\n",
       "      <td>Agree</td>\n",
       "      <td>Somewhat agree</td>\n",
       "      <td>Agree</td>\n",
       "      <td>Maybe</td>\n",
       "      <td>Maybe</td>\n",
       "      <td>The interactive lectures</td>\n",
       "      <td>The time given to work</td>\n",
       "      <td>Make curfew later and allow pm students to che...</td>\n",
       "      <td>The straight lecturing sometimes is boring</td>\n",
       "    </tr>\n",
       "    <tr>\n",
       "      <th>16</th>\n",
       "      <td>Na</td>\n",
       "      <td>Exceeding</td>\n",
       "      <td>Agree</td>\n",
       "      <td>Strongly Agree</td>\n",
       "      <td>Agree</td>\n",
       "      <td>Yes</td>\n",
       "      <td>Yes</td>\n",
       "      <td>Activities</td>\n",
       "      <td>Hands on activities</td>\n",
       "      <td>Na</td>\n",
       "      <td>Na</td>\n",
       "    </tr>\n",
       "    <tr>\n",
       "      <th>17</th>\n",
       "      <td>Maybe specify when the Slack/eventee things wi...</td>\n",
       "      <td>Exceeding</td>\n",
       "      <td>Strongly Agree</td>\n",
       "      <td>Strongly Agree</td>\n",
       "      <td>Strongly Agree</td>\n",
       "      <td>Yes</td>\n",
       "      <td>Maybe</td>\n",
       "      <td>I’ve enjoyed the lectures from the various pro...</td>\n",
       "      <td>The medical lectures, like the emergency medic...</td>\n",
       "      <td>Maybe specify the differences between all of t...</td>\n",
       "      <td>I feel that its could be more clear in outlini...</td>\n",
       "    </tr>\n",
       "    <tr>\n",
       "      <th>18</th>\n",
       "      <td>Slack was having some issues but other than th...</td>\n",
       "      <td>Exceeding</td>\n",
       "      <td>Agree</td>\n",
       "      <td>Agree</td>\n",
       "      <td>Agree</td>\n",
       "      <td>Maybe</td>\n",
       "      <td>Yes</td>\n",
       "      <td>1) the MIRs are happy to share their education...</td>\n",
       "      <td>1) course reading and workbook\\n2) timely slac...</td>\n",
       "      <td>I feel like the program is going well for me s...</td>\n",
       "      <td>1) I don’t mind checking in earlier but we had...</td>\n",
       "    </tr>\n",
       "    <tr>\n",
       "      <th>19</th>\n",
       "      <td>The laundry schedule would be helpful to know ...</td>\n",
       "      <td>Exceeding</td>\n",
       "      <td>Somewhat agree</td>\n",
       "      <td>Agree</td>\n",
       "      <td>Agree</td>\n",
       "      <td>No</td>\n",
       "      <td>Maybe</td>\n",
       "      <td>The welcoming presence of the MIR’s and differ...</td>\n",
       "      <td>The well explained concepts in the lectures an...</td>\n",
       "      <td>Perhaps longer time for breakfast.</td>\n",
       "      <td>There is nothing I can think of at the moment.</td>\n",
       "    </tr>\n",
       "    <tr>\n",
       "      <th>20</th>\n",
       "      <td>I'm not sure</td>\n",
       "      <td>Meeting</td>\n",
       "      <td>Strongly Agree</td>\n",
       "      <td>Somewhat agree</td>\n",
       "      <td>Strongly Agree</td>\n",
       "      <td>Maybe</td>\n",
       "      <td>Yes</td>\n",
       "      <td>All of the instructors go very in-depth during...</td>\n",
       "      <td>The MIRs are always readily available when I a...</td>\n",
       "      <td>I'm not sure</td>\n",
       "      <td>Some of the lectures are somewhat lengthy but ...</td>\n",
       "    </tr>\n",
       "    <tr>\n",
       "      <th>21</th>\n",
       "      <td>No, I thought it was all straightforward.</td>\n",
       "      <td>Exceeding</td>\n",
       "      <td>Strongly Agree</td>\n",
       "      <td>Strongly Agree</td>\n",
       "      <td>Strongly Agree</td>\n",
       "      <td>Maybe</td>\n",
       "      <td>Maybe</td>\n",
       "      <td>Being able to ask for feedback or past example...</td>\n",
       "      <td>Doing hands on work and group assignments.</td>\n",
       "      <td>I think if possible just giving us more time o...</td>\n",
       "      <td>Giving more time for questions to be asked and...</td>\n",
       "    </tr>\n",
       "    <tr>\n",
       "      <th>22</th>\n",
       "      <td>Nothing it was very clear</td>\n",
       "      <td>Exceeding</td>\n",
       "      <td>Strongly Agree</td>\n",
       "      <td>Strongly Agree</td>\n",
       "      <td>Strongly Agree</td>\n",
       "      <td>No</td>\n",
       "      <td>Yes</td>\n",
       "      <td>slideshows are informational, speakers are inf...</td>\n",
       "      <td>the hands on experiences</td>\n",
       "      <td>more time to walk to class</td>\n",
       "      <td>nothing they are doing amazing</td>\n",
       "    </tr>\n",
       "    <tr>\n",
       "      <th>23</th>\n",
       "      <td>Nah it was very clear</td>\n",
       "      <td>Meeting</td>\n",
       "      <td>Agree</td>\n",
       "      <td>Somewhat agree</td>\n",
       "      <td>Agree</td>\n",
       "      <td>No</td>\n",
       "      <td>No</td>\n",
       "      <td>Group activities that make me compete against ...</td>\n",
       "      <td>The more interesting lectures like the 10 Ways...</td>\n",
       "      <td>More time for activities or to discuss things ...</td>\n",
       "      <td>Some instructors weren't as interesting as oth...</td>\n",
       "    </tr>\n",
       "    <tr>\n",
       "      <th>24</th>\n",
       "      <td>I think the start of the course was good but t...</td>\n",
       "      <td>Meeting</td>\n",
       "      <td>Agree</td>\n",
       "      <td>Somewhat agree</td>\n",
       "      <td>Agree</td>\n",
       "      <td>Maybe</td>\n",
       "      <td>No</td>\n",
       "      <td>I think that the instructors that involve the ...</td>\n",
       "      <td>I think the amount of time we spend in class i...</td>\n",
       "      <td>Explain the capstone and media project more cl...</td>\n",
       "      <td>I think some instructors do not give instructi...</td>\n",
       "    </tr>\n",
       "    <tr>\n",
       "      <th>25</th>\n",
       "      <td>We could have gotten a better explanation of w...</td>\n",
       "      <td>Meeting</td>\n",
       "      <td>Neither agree nor disagree</td>\n",
       "      <td>Somewhat disagree</td>\n",
       "      <td>Strongly Agree</td>\n",
       "      <td>Yes</td>\n",
       "      <td>Yes</td>\n",
       "      <td>Hands on activities\\nActive guidance on our pr...</td>\n",
       "      <td>Experience with the ECG, SPO2 monitor, inserti...</td>\n",
       "      <td>More hands on stuff if possible. I'd also like...</td>\n",
       "      <td>Please, and I can't repeat this more, give us ...</td>\n",
       "    </tr>\n",
       "    <tr>\n",
       "      <th>26</th>\n",
       "      <td>No, everything was very clear.</td>\n",
       "      <td>Below</td>\n",
       "      <td>Strongly Agree</td>\n",
       "      <td>Somewhat agree</td>\n",
       "      <td>Strongly Agree</td>\n",
       "      <td>Maybe</td>\n",
       "      <td>No</td>\n",
       "      <td>The hands-on projects, college-style lectures,...</td>\n",
       "      <td>The hands-on, demonstrative parts of the course.</td>\n",
       "      <td>I hope that there are more hands-on, immersive...</td>\n",
       "      <td>I hope that it was more structured with its co...</td>\n",
       "    </tr>\n",
       "    <tr>\n",
       "      <th>27</th>\n",
       "      <td>Not really</td>\n",
       "      <td>Exceeding</td>\n",
       "      <td>Strongly Agree</td>\n",
       "      <td>Strongly Agree</td>\n",
       "      <td>Strongly Agree</td>\n",
       "      <td>Maybe</td>\n",
       "      <td>Maybe</td>\n",
       "      <td>the big rooms and lecture halls\\nthe mikes\\nth...</td>\n",
       "      <td>the lectures and the hands on experiences</td>\n",
       "      <td>more in person, hands on, clinical experiences.</td>\n",
       "      <td>sometimes the non-medical lectures can get rep...</td>\n",
       "    </tr>\n",
       "    <tr>\n",
       "      <th>28</th>\n",
       "      <td>Sending out daily plans a day earlier with the...</td>\n",
       "      <td>Exceeding</td>\n",
       "      <td>Agree</td>\n",
       "      <td>Somewhat agree</td>\n",
       "      <td>Agree</td>\n",
       "      <td>Maybe</td>\n",
       "      <td>Yes</td>\n",
       "      <td>I loved working with my pod and getting to kno...</td>\n",
       "      <td>Team building, learning how to face challenges.</td>\n",
       "      <td>NaN</td>\n",
       "      <td>I wished we had better communication abotu sch...</td>\n",
       "    </tr>\n",
       "    <tr>\n",
       "      <th>29</th>\n",
       "      <td>you could've added the onboarding link to ever...</td>\n",
       "      <td>Meeting</td>\n",
       "      <td>Agree</td>\n",
       "      <td>Somewhat agree</td>\n",
       "      <td>Somewhat agree</td>\n",
       "      <td>No</td>\n",
       "      <td>Maybe</td>\n",
       "      <td>1) loved 10 ways to die, super interactive and...</td>\n",
       "      <td>introducing healthcare in general</td>\n",
       "      <td>more interesting lectures</td>\n",
       "      <td>1) less long lecturing with no enthusiasm/ppt ...</td>\n",
       "    </tr>\n",
       "    <tr>\n",
       "      <th>30</th>\n",
       "      <td>NaN</td>\n",
       "      <td>Exceeding</td>\n",
       "      <td>Strongly Agree</td>\n",
       "      <td>Agree</td>\n",
       "      <td>Somewhat agree</td>\n",
       "      <td>No</td>\n",
       "      <td>Maybe</td>\n",
       "      <td>The organized slack and eventee. It is VERY ea...</td>\n",
       "      <td>The sessions that are more hands-on and medici...</td>\n",
       "      <td>Limit filler/repetive lectures and focus more ...</td>\n",
       "      <td>Some of the beginning lectures were repetitive...</td>\n",
       "    </tr>\n",
       "    <tr>\n",
       "      <th>31</th>\n",
       "      <td>I would’ve liked to see a little more content ...</td>\n",
       "      <td>Meeting</td>\n",
       "      <td>Strongly Agree</td>\n",
       "      <td>Agree</td>\n",
       "      <td>Strongly Agree</td>\n",
       "      <td>Yes</td>\n",
       "      <td>Yes</td>\n",
       "      <td>I loved Dr. Chabdrasoma, Dr. Mittal, and Dr. G...</td>\n",
       "      <td>Collaboration and teamwork and the experienced...</td>\n",
       "      <td>More experience with tools and simulations.</td>\n",
       "      <td>Well I wish we had more time with them, especi...</td>\n",
       "    </tr>\n",
       "    <tr>\n",
       "      <th>32</th>\n",
       "      <td>No suggestions.</td>\n",
       "      <td>Meeting</td>\n",
       "      <td>Agree</td>\n",
       "      <td>Agree</td>\n",
       "      <td>Somewhat agree</td>\n",
       "      <td>Maybe</td>\n",
       "      <td>Maybe</td>\n",
       "      <td>1.Group work for the epatient\\n2. Surgery exam...</td>\n",
       "      <td>The surgery examples is one of the examples</td>\n",
       "      <td>Everything fine I don't have any changes.</td>\n",
       "      <td>Dont have suggestion.</td>\n",
       "    </tr>\n",
       "    <tr>\n",
       "      <th>33</th>\n",
       "      <td>I would say the pod leaders can probably reply...</td>\n",
       "      <td>Meeting</td>\n",
       "      <td>Agree</td>\n",
       "      <td>Somewhat agree</td>\n",
       "      <td>Agree</td>\n",
       "      <td>Maybe</td>\n",
       "      <td>Yes</td>\n",
       "      <td>the simulations are perfect.</td>\n",
       "      <td>simulations</td>\n",
       "      <td>I would say more time for hands on experience</td>\n",
       "      <td>I would say reduce time on saying irrelevant t...</td>\n",
       "    </tr>\n",
       "    <tr>\n",
       "      <th>34</th>\n",
       "      <td>NaN</td>\n",
       "      <td>Meeting</td>\n",
       "      <td>Agree</td>\n",
       "      <td>Agree</td>\n",
       "      <td>Agree</td>\n",
       "      <td>Maybe</td>\n",
       "      <td>No</td>\n",
       "      <td>Providing more structure and guidance for the ...</td>\n",
       "      <td>I think meeting industry professionals is extr...</td>\n",
       "      <td>I think having an interactive activity on the ...</td>\n",
       "      <td>I think some more structure on the capstone pr...</td>\n",
       "    </tr>\n",
       "    <tr>\n",
       "      <th>35</th>\n",
       "      <td>No</td>\n",
       "      <td>Exceeding</td>\n",
       "      <td>Strongly Agree</td>\n",
       "      <td>Agree</td>\n",
       "      <td>Strongly Agree</td>\n",
       "      <td>Maybe</td>\n",
       "      <td>Maybe</td>\n",
       "      <td>- Explain things really well\\n- Guide us throu...</td>\n",
       "      <td>The self-paced(ish) projects with some guidanc...</td>\n",
       "      <td>Remove the first strike from students who don'...</td>\n",
       "      <td>- The reward/punishment system could be better...</td>\n",
       "    </tr>\n",
       "    <tr>\n",
       "      <th>36</th>\n",
       "      <td>No.</td>\n",
       "      <td>Exceeding</td>\n",
       "      <td>Strongly Agree</td>\n",
       "      <td>Agree</td>\n",
       "      <td>Strongly Agree</td>\n",
       "      <td>No</td>\n",
       "      <td>Maybe</td>\n",
       "      <td>When one of the lecturers (the one only using ...</td>\n",
       "      <td>The hands on things (seutering, cpr coming up)...</td>\n",
       "      <td>I find the 6:50 check in a bit hard to underst...</td>\n",
       "      <td>I didn’t want to learn as much about art, more...</td>\n",
       "    </tr>\n",
       "    <tr>\n",
       "      <th>37</th>\n",
       "      <td>the portal was really faulty and did not save ...</td>\n",
       "      <td>Below</td>\n",
       "      <td>Agree</td>\n",
       "      <td>Agree</td>\n",
       "      <td>Strongly Agree</td>\n",
       "      <td>No</td>\n",
       "      <td>No</td>\n",
       "      <td>1. 10 ways to die lecture\\n2. Goodman Surgery ...</td>\n",
       "      <td>see first</td>\n",
       "      <td>1. More advance with lecture starting places/d...</td>\n",
       "      <td>1. better wifi PLEASE. most of the time I cann...</td>\n",
       "    </tr>\n",
       "    <tr>\n",
       "      <th>38</th>\n",
       "      <td>Everything was fine for the onboarding experie...</td>\n",
       "      <td>Meeting</td>\n",
       "      <td>Strongly Agree</td>\n",
       "      <td>Strongly Agree</td>\n",
       "      <td>Agree</td>\n",
       "      <td>Maybe</td>\n",
       "      <td>Maybe</td>\n",
       "      <td>I feel that there were two lecturers that real...</td>\n",
       "      <td>I think the hands on activities where we reall...</td>\n",
       "      <td>Nothing needs to be done.</td>\n",
       "      <td>Just more hands on or interactive activities.</td>\n",
       "    </tr>\n",
       "    <tr>\n",
       "      <th>39</th>\n",
       "      <td>I think having the google drive accessible imm...</td>\n",
       "      <td>Meeting</td>\n",
       "      <td>Somewhat agree</td>\n",
       "      <td>Agree</td>\n",
       "      <td>Agree</td>\n",
       "      <td>Maybe</td>\n",
       "      <td>No</td>\n",
       "      <td>The three specific things that helped me learn...</td>\n",
       "      <td>The parts that are aiding me the most are the ...</td>\n",
       "      <td>I think that giving more time to ask questions...</td>\n",
       "      <td>I would say that some of the courses don’t see...</td>\n",
       "    </tr>\n",
       "    <tr>\n",
       "      <th>40</th>\n",
       "      <td>Just have slack a bit more up to date for pod ...</td>\n",
       "      <td>Exceeding</td>\n",
       "      <td>Agree</td>\n",
       "      <td>Agree</td>\n",
       "      <td>Strongly Agree</td>\n",
       "      <td>Maybe</td>\n",
       "      <td>Maybe</td>\n",
       "      <td>Being a confident speaker and knowing what you...</td>\n",
       "      <td>The interactive activities.</td>\n",
       "      <td>More group work would be nice.</td>\n",
       "      <td>Shortening your lectures or making them more i...</td>\n",
       "    </tr>\n",
       "    <tr>\n",
       "      <th>41</th>\n",
       "      <td>An example of what a normal day would be like ...</td>\n",
       "      <td>Below</td>\n",
       "      <td>Neither agree nor disagree</td>\n",
       "      <td>Somewhat disagree</td>\n",
       "      <td>Disagree</td>\n",
       "      <td>No</td>\n",
       "      <td>No</td>\n",
       "      <td>The capstone project is a great way to explore...</td>\n",
       "      <td>The physical activities and lectures directly ...</td>\n",
       "      <td>Incorporating more physical/hands on activitie...</td>\n",
       "      <td>1. MIRs replying to questions\\n2. Having easie...</td>\n",
       "    </tr>\n",
       "    <tr>\n",
       "      <th>42</th>\n",
       "      <td>Not really!\\n</td>\n",
       "      <td>Exceeding</td>\n",
       "      <td>Strongly Agree</td>\n",
       "      <td>Strongly Agree</td>\n",
       "      <td>Strongly Agree</td>\n",
       "      <td>Yes</td>\n",
       "      <td>Yes</td>\n",
       "      <td>I liked that all the sessions are very engagin...</td>\n",
       "      <td>For me, the suturing session, monitoring(the o...</td>\n",
       "      <td>Maybe providing more work time for capstone gr...</td>\n",
       "      <td>More clinical experiences. I know that we have...</td>\n",
       "    </tr>\n",
       "    <tr>\n",
       "      <th>43</th>\n",
       "      <td>I think the process for understanding enrollme...</td>\n",
       "      <td>Exceeding</td>\n",
       "      <td>Strongly Agree</td>\n",
       "      <td>Agree</td>\n",
       "      <td>Strongly Agree</td>\n",
       "      <td>Yes</td>\n",
       "      <td>Maybe</td>\n",
       "      <td>1. Being able to hear the many keynote speaker...</td>\n",
       "      <td>The other participants in my pod and capstone ...</td>\n",
       "      <td>I think allowing students to meet together mad...</td>\n",
       "      <td>1. I think the expectations on what participan...</td>\n",
       "    </tr>\n",
       "    <tr>\n",
       "      <th>44</th>\n",
       "      <td>No, thank you!</td>\n",
       "      <td>Meeting</td>\n",
       "      <td>Agree</td>\n",
       "      <td>Agree</td>\n",
       "      <td>Somewhat agree</td>\n",
       "      <td>Maybe</td>\n",
       "      <td>Maybe</td>\n",
       "      <td>1. The more interactive and engaging, the bett...</td>\n",
       "      <td>I've already previously mentioned this but the...</td>\n",
       "      <td>Often I'm one of the last people to get lunch ...</td>\n",
       "      <td>I really appreciate every each instructor has...</td>\n",
       "    </tr>\n",
       "    <tr>\n",
       "      <th>45</th>\n",
       "      <td>it took forever to figure out eventee and they...</td>\n",
       "      <td>Meeting</td>\n",
       "      <td>Neither agree nor disagree</td>\n",
       "      <td>Somewhat agree</td>\n",
       "      <td>Neither agree nor disagree</td>\n",
       "      <td>No</td>\n",
       "      <td>No</td>\n",
       "      <td>being able to start later allows me to stay fo...</td>\n",
       "      <td>the capstone</td>\n",
       "      <td>more free time</td>\n",
       "      <td>time management is a little off in lectures. i...</td>\n",
       "    </tr>\n",
       "    <tr>\n",
       "      <th>46</th>\n",
       "      <td>No</td>\n",
       "      <td>Exceeding</td>\n",
       "      <td>Strongly Agree</td>\n",
       "      <td>Strongly Agree</td>\n",
       "      <td>Strongly Agree</td>\n",
       "      <td>No</td>\n",
       "      <td>Maybe</td>\n",
       "      <td>1. Interactive Activities\\n2. Interesting lect...</td>\n",
       "      <td>I like the hands on experiences we get like le...</td>\n",
       "      <td>I think it's good as it is!</td>\n",
       "      <td>Not much</td>\n",
       "    </tr>\n",
       "    <tr>\n",
       "      <th>47</th>\n",
       "      <td>No, it was already pretty good.</td>\n",
       "      <td>Exceeding</td>\n",
       "      <td>Strongly Agree</td>\n",
       "      <td>Strongly Agree</td>\n",
       "      <td>Strongly Agree</td>\n",
       "      <td>Yes</td>\n",
       "      <td>Yes</td>\n",
       "      <td>1. The instructors always leave time at the en...</td>\n",
       "      <td>The narrative assignment is really aiding my l...</td>\n",
       "      <td>I don't think there are really any changes tha...</td>\n",
       "      <td>There's only one thing, which is that sometime...</td>\n",
       "    </tr>\n",
       "    <tr>\n",
       "      <th>48</th>\n",
       "      <td>NaN</td>\n",
       "      <td>Meeting</td>\n",
       "      <td>Agree</td>\n",
       "      <td>Agree</td>\n",
       "      <td>Strongly Agree</td>\n",
       "      <td>Maybe</td>\n",
       "      <td>Maybe</td>\n",
       "      <td>i liked the style, i felt that i stayed engaged.</td>\n",
       "      <td>everything</td>\n",
       "      <td>i really like it here</td>\n",
       "      <td>the MIRs were kinda angry at the whole group f...</td>\n",
       "    </tr>\n",
       "    <tr>\n",
       "      <th>49</th>\n",
       "      <td>Maybe sending out the invitation to slack and ...</td>\n",
       "      <td>Meeting</td>\n",
       "      <td>Somewhat agree</td>\n",
       "      <td>Agree</td>\n",
       "      <td>Somewhat agree</td>\n",
       "      <td>Maybe</td>\n",
       "      <td>Maybe</td>\n",
       "      <td>The instructor explain complex topics in a way...</td>\n",
       "      <td>The peers support and multiple communication w...</td>\n",
       "      <td>NaN</td>\n",
       "      <td>NaN</td>\n",
       "    </tr>\n",
       "    <tr>\n",
       "      <th>50</th>\n",
       "      <td>It would have been nice if they explained all ...</td>\n",
       "      <td>Exceeding</td>\n",
       "      <td>Somewhat agree</td>\n",
       "      <td>Strongly Agree</td>\n",
       "      <td>Strongly Agree</td>\n",
       "      <td>No</td>\n",
       "      <td>Yes</td>\n",
       "      <td>The instructors are very engaging when they gi...</td>\n",
       "      <td>The fact that we have actual patients that we ...</td>\n",
       "      <td>More group discussion time for the capstone gr...</td>\n",
       "      <td>One thing would be to have more time for the c...</td>\n",
       "    </tr>\n",
       "    <tr>\n",
       "      <th>51</th>\n",
       "      <td>\\nno</td>\n",
       "      <td>Exceeding</td>\n",
       "      <td>Strongly Agree</td>\n",
       "      <td>Strongly Agree</td>\n",
       "      <td>Strongly Agree</td>\n",
       "      <td>Yes</td>\n",
       "      <td>Yes</td>\n",
       "      <td>Plenty of time. Good instructors. Time after t...</td>\n",
       "      <td>Suture bootcamp.</td>\n",
       "      <td>More hands on activities.</td>\n",
       "      <td>NaN</td>\n",
       "    </tr>\n",
       "  </tbody>\n",
       "</table>\n",
       "</div>"
      ],
      "text/plain": [
       "                                         Q6 Logistics Q10 Quality  \\\n",
       "0                           No- onboarding was great!     Meeting   \n",
       "1                                                 NaN     Meeting   \n",
       "2   making how to get parking permit instructions ...   Exceeding   \n",
       "3                   Providing the information earlier     Meeting   \n",
       "4                                      No not really    Exceeding   \n",
       "5   I really liked all lectures and they helped me...     Meeting   \n",
       "6                                                  No     Meeting   \n",
       "7              Have the slides and content available      Meeting   \n",
       "8                                            Nothing        Below   \n",
       "9   Maybe explain more what the focus of the progr...     Meeting   \n",
       "10             I think i knew everything i needed to.     Meeting   \n",
       "11  I feel as if there should be less repetitive l...     Meeting   \n",
       "12                                              Nope!   Exceeding   \n",
       "13                                 So far so good!!!    Exceeding   \n",
       "14                                                 no   Exceeding   \n",
       "15                                                NaN   Exceeding   \n",
       "16                                                Na    Exceeding   \n",
       "17  Maybe specify when the Slack/eventee things wi...   Exceeding   \n",
       "18  Slack was having some issues but other than th...   Exceeding   \n",
       "19  The laundry schedule would be helpful to know ...   Exceeding   \n",
       "20                                       I'm not sure     Meeting   \n",
       "21          No, I thought it was all straightforward.   Exceeding   \n",
       "22                          Nothing it was very clear   Exceeding   \n",
       "23                              Nah it was very clear     Meeting   \n",
       "24  I think the start of the course was good but t...     Meeting   \n",
       "25  We could have gotten a better explanation of w...     Meeting   \n",
       "26                     No, everything was very clear.       Below   \n",
       "27                                         Not really   Exceeding   \n",
       "28  Sending out daily plans a day earlier with the...   Exceeding   \n",
       "29  you could've added the onboarding link to ever...     Meeting   \n",
       "30                                                NaN   Exceeding   \n",
       "31  I would’ve liked to see a little more content ...     Meeting   \n",
       "32                                    No suggestions.     Meeting   \n",
       "33  I would say the pod leaders can probably reply...     Meeting   \n",
       "34                                                NaN     Meeting   \n",
       "35                                                 No   Exceeding   \n",
       "36                                                No.   Exceeding   \n",
       "37  the portal was really faulty and did not save ...       Below   \n",
       "38  Everything was fine for the onboarding experie...     Meeting   \n",
       "39  I think having the google drive accessible imm...     Meeting   \n",
       "40  Just have slack a bit more up to date for pod ...   Exceeding   \n",
       "41  An example of what a normal day would be like ...       Below   \n",
       "42                                      Not really!\\n   Exceeding   \n",
       "43  I think the process for understanding enrollme...   Exceeding   \n",
       "44                                     No, thank you!     Meeting   \n",
       "45  it took forever to figure out eventee and they...     Meeting   \n",
       "46                                                 No   Exceeding   \n",
       "47                    No, it was already pretty good.   Exceeding   \n",
       "48                                                NaN     Meeting   \n",
       "49  Maybe sending out the invitation to slack and ...     Meeting   \n",
       "50  It would have been nice if they explained all ...   Exceeding   \n",
       "51                                               \\nno   Exceeding   \n",
       "\n",
       "                  Q21 Workload    Q27 Instructor Effective  \\\n",
       "0               Strongly Agree                       Agree   \n",
       "1                        Agree              Strongly Agree   \n",
       "2                        Agree                       Agree   \n",
       "3                        Agree              Strongly Agree   \n",
       "4                        Agree                       Agree   \n",
       "5               Somewhat agree                       Agree   \n",
       "6               Somewhat agree                       Agree   \n",
       "7               Somewhat agree                       Agree   \n",
       "8            Strongly disagree  Neither agree nor disagree   \n",
       "9                        Agree              Somewhat agree   \n",
       "10              Strongly Agree              Strongly Agree   \n",
       "11              Somewhat agree                       Agree   \n",
       "12              Strongly Agree                       Agree   \n",
       "13              Strongly Agree              Strongly Agree   \n",
       "14              Strongly Agree              Strongly Agree   \n",
       "15                       Agree              Somewhat agree   \n",
       "16                       Agree              Strongly Agree   \n",
       "17              Strongly Agree              Strongly Agree   \n",
       "18                       Agree                       Agree   \n",
       "19              Somewhat agree                       Agree   \n",
       "20              Strongly Agree              Somewhat agree   \n",
       "21              Strongly Agree              Strongly Agree   \n",
       "22              Strongly Agree              Strongly Agree   \n",
       "23                       Agree              Somewhat agree   \n",
       "24                       Agree              Somewhat agree   \n",
       "25  Neither agree nor disagree           Somewhat disagree   \n",
       "26              Strongly Agree              Somewhat agree   \n",
       "27              Strongly Agree              Strongly Agree   \n",
       "28                       Agree              Somewhat agree   \n",
       "29                       Agree              Somewhat agree   \n",
       "30              Strongly Agree                       Agree   \n",
       "31              Strongly Agree                       Agree   \n",
       "32                       Agree                       Agree   \n",
       "33                       Agree              Somewhat agree   \n",
       "34                       Agree                       Agree   \n",
       "35              Strongly Agree                       Agree   \n",
       "36              Strongly Agree                       Agree   \n",
       "37                       Agree                       Agree   \n",
       "38              Strongly Agree              Strongly Agree   \n",
       "39              Somewhat agree                       Agree   \n",
       "40                       Agree                       Agree   \n",
       "41  Neither agree nor disagree           Somewhat disagree   \n",
       "42              Strongly Agree              Strongly Agree   \n",
       "43              Strongly Agree                       Agree   \n",
       "44                       Agree                       Agree   \n",
       "45  Neither agree nor disagree              Somewhat agree   \n",
       "46              Strongly Agree              Strongly Agree   \n",
       "47              Strongly Agree              Strongly Agree   \n",
       "48                       Agree                       Agree   \n",
       "49              Somewhat agree                       Agree   \n",
       "50              Somewhat agree              Strongly Agree   \n",
       "51              Strongly Agree              Strongly Agree   \n",
       "\n",
       "     Q38 Understand Healthcare Q57 MIR icebreaker Q59 MIR office hours  \\\n",
       "0               Strongly Agree                Yes                  Yes   \n",
       "1                        Agree                 No                  Yes   \n",
       "2               Strongly Agree                 No                   No   \n",
       "3               Strongly Agree                 No                   No   \n",
       "4                        Agree              Maybe                Maybe   \n",
       "5               Strongly Agree                Yes                  Yes   \n",
       "6                        Agree                 No                Maybe   \n",
       "7                        Agree                Yes                  Yes   \n",
       "8   Neither agree nor disagree                Yes                   No   \n",
       "9   Neither agree nor disagree                 No                   No   \n",
       "10              Strongly Agree                 No                Maybe   \n",
       "11                       Agree              Maybe                Maybe   \n",
       "12              Strongly Agree                Yes                  Yes   \n",
       "13              Strongly Agree              Maybe                Maybe   \n",
       "14              Strongly Agree              Maybe                Maybe   \n",
       "15                       Agree              Maybe                Maybe   \n",
       "16                       Agree                Yes                  Yes   \n",
       "17              Strongly Agree                Yes                Maybe   \n",
       "18                       Agree              Maybe                  Yes   \n",
       "19                       Agree                 No                Maybe   \n",
       "20              Strongly Agree              Maybe                  Yes   \n",
       "21              Strongly Agree              Maybe                Maybe   \n",
       "22              Strongly Agree                 No                  Yes   \n",
       "23                       Agree                 No                   No   \n",
       "24                       Agree              Maybe                   No   \n",
       "25              Strongly Agree                Yes                  Yes   \n",
       "26              Strongly Agree              Maybe                   No   \n",
       "27              Strongly Agree              Maybe                Maybe   \n",
       "28                       Agree              Maybe                  Yes   \n",
       "29              Somewhat agree                 No                Maybe   \n",
       "30              Somewhat agree                 No                Maybe   \n",
       "31              Strongly Agree                Yes                  Yes   \n",
       "32              Somewhat agree              Maybe                Maybe   \n",
       "33                       Agree              Maybe                  Yes   \n",
       "34                       Agree              Maybe                   No   \n",
       "35              Strongly Agree              Maybe                Maybe   \n",
       "36              Strongly Agree                 No                Maybe   \n",
       "37              Strongly Agree                 No                   No   \n",
       "38                       Agree              Maybe                Maybe   \n",
       "39                       Agree              Maybe                   No   \n",
       "40              Strongly Agree              Maybe                Maybe   \n",
       "41                    Disagree                 No                   No   \n",
       "42              Strongly Agree                Yes                  Yes   \n",
       "43              Strongly Agree                Yes                Maybe   \n",
       "44              Somewhat agree              Maybe                Maybe   \n",
       "45  Neither agree nor disagree                 No                   No   \n",
       "46              Strongly Agree                 No                Maybe   \n",
       "47              Strongly Agree                Yes                  Yes   \n",
       "48              Strongly Agree              Maybe                Maybe   \n",
       "49              Somewhat agree              Maybe                Maybe   \n",
       "50              Strongly Agree                 No                  Yes   \n",
       "51              Strongly Agree                Yes                  Yes   \n",
       "\n",
       "                                          Q48 3 works  \\\n",
       "0   I really like the mini group projects with our...   \n",
       "1                                   Engaging lectures   \n",
       "2   the hands on activities, many different aspect...   \n",
       "3        The ability to communicate with them easily.   \n",
       "4   The instructors are always ready to answer any...   \n",
       "5   1. Hands on activities really give me an oppor...   \n",
       "6   Allow time for questions, and let us answer th...   \n",
       "7   I learnt more about the medical field, its cli...   \n",
       "8              New concepts new people and new ideas    \n",
       "9                Engaging things, images and examples   \n",
       "10  The MIRs are all chill and friendly, the lectu...   \n",
       "11  I would say collaborating, being organized, an...   \n",
       "12  I feel everyone, especially the MIR’s, is welc...   \n",
       "13  The welcoming environment and the engaging del...   \n",
       "14  The instructors make the content easy to under...   \n",
       "15                           The interactive lectures   \n",
       "16                                        Activities    \n",
       "17  I’ve enjoyed the lectures from the various pro...   \n",
       "18  1) the MIRs are happy to share their education...   \n",
       "19  The welcoming presence of the MIR’s and differ...   \n",
       "20  All of the instructors go very in-depth during...   \n",
       "21  Being able to ask for feedback or past example...   \n",
       "22  slideshows are informational, speakers are inf...   \n",
       "23  Group activities that make me compete against ...   \n",
       "24  I think that the instructors that involve the ...   \n",
       "25  Hands on activities\\nActive guidance on our pr...   \n",
       "26  The hands-on projects, college-style lectures,...   \n",
       "27  the big rooms and lecture halls\\nthe mikes\\nth...   \n",
       "28  I loved working with my pod and getting to kno...   \n",
       "29  1) loved 10 ways to die, super interactive and...   \n",
       "30  The organized slack and eventee. It is VERY ea...   \n",
       "31  I loved Dr. Chabdrasoma, Dr. Mittal, and Dr. G...   \n",
       "32  1.Group work for the epatient\\n2. Surgery exam...   \n",
       "33                       the simulations are perfect.   \n",
       "34  Providing more structure and guidance for the ...   \n",
       "35  - Explain things really well\\n- Guide us throu...   \n",
       "36  When one of the lecturers (the one only using ...   \n",
       "37  1. 10 ways to die lecture\\n2. Goodman Surgery ...   \n",
       "38  I feel that there were two lecturers that real...   \n",
       "39  The three specific things that helped me learn...   \n",
       "40  Being a confident speaker and knowing what you...   \n",
       "41  The capstone project is a great way to explore...   \n",
       "42  I liked that all the sessions are very engagin...   \n",
       "43  1. Being able to hear the many keynote speaker...   \n",
       "44  1. The more interactive and engaging, the bett...   \n",
       "45  being able to start later allows me to stay fo...   \n",
       "46  1. Interactive Activities\\n2. Interesting lect...   \n",
       "47  1. The instructors always leave time at the en...   \n",
       "48   i liked the style, i felt that i stayed engaged.   \n",
       "49  The instructor explain complex topics in a way...   \n",
       "50  The instructors are very engaging when they gi...   \n",
       "51  Plenty of time. Good instructors. Time after t...   \n",
       "\n",
       "                                          Q50 Aiding   \\\n",
       "0                                     Capstone groups   \n",
       "1                                            Lectures   \n",
       "2    speakers and seeing different realms of medicine   \n",
       "3                 Simulations and hands-on activities   \n",
       "4   The suturing course and emergency medicine lec...   \n",
       "5   Lessons that effectively teach knowledge or ha...   \n",
       "6                          The interactive activities   \n",
       "7   I like the clinical applications, capstone, an...   \n",
       "8                                           The tours   \n",
       "9                                      The professors   \n",
       "10                   The lectures and asking the MiRs   \n",
       "11                      Helpful hands on experiments.   \n",
       "12  The lectures are definitely fueling my learnin...   \n",
       "13                         The hands-on experiences.    \n",
       "14                  The hands-on aspects are amazing.   \n",
       "15                             The time given to work   \n",
       "16                                Hands on activities   \n",
       "17  The medical lectures, like the emergency medic...   \n",
       "18  1) course reading and workbook\\n2) timely slac...   \n",
       "19  The well explained concepts in the lectures an...   \n",
       "20  The MIRs are always readily available when I a...   \n",
       "21         Doing hands on work and group assignments.   \n",
       "22                          the hands on experiences    \n",
       "23  The more interesting lectures like the 10 Ways...   \n",
       "24  I think the amount of time we spend in class i...   \n",
       "25  Experience with the ECG, SPO2 monitor, inserti...   \n",
       "26   The hands-on, demonstrative parts of the course.   \n",
       "27          the lectures and the hands on experiences   \n",
       "28    Team building, learning how to face challenges.   \n",
       "29                  introducing healthcare in general   \n",
       "30  The sessions that are more hands-on and medici...   \n",
       "31  Collaboration and teamwork and the experienced...   \n",
       "32        The surgery examples is one of the examples   \n",
       "33                                        simulations   \n",
       "34  I think meeting industry professionals is extr...   \n",
       "35  The self-paced(ish) projects with some guidanc...   \n",
       "36  The hands on things (seutering, cpr coming up)...   \n",
       "37                                         see first    \n",
       "38  I think the hands on activities where we reall...   \n",
       "39  The parts that are aiding me the most are the ...   \n",
       "40                       The interactive activities.    \n",
       "41  The physical activities and lectures directly ...   \n",
       "42  For me, the suturing session, monitoring(the o...   \n",
       "43  The other participants in my pod and capstone ...   \n",
       "44  I've already previously mentioned this but the...   \n",
       "45                                       the capstone   \n",
       "46  I like the hands on experiences we get like le...   \n",
       "47  The narrative assignment is really aiding my l...   \n",
       "48                                         everything   \n",
       "49  The peers support and multiple communication w...   \n",
       "50  The fact that we have actual patients that we ...   \n",
       "51                                  Suture bootcamp.    \n",
       "\n",
       "                                          Q52 Changes  \\\n",
       "0   Having icebreaker stuff or like team bonding w...   \n",
       "1                                                 NaN   \n",
       "2                                             nothing   \n",
       "3                                             None :)   \n",
       "4   I think if the lectures were a little bit fast...   \n",
       "5                     Make lectures more interactive.   \n",
       "6                                        Later starts   \n",
       "7   I would like more clinical applications and mo...   \n",
       "8                             Better time management    \n",
       "9                                        Better lunch   \n",
       "10  Lowk, I should eat a lot more then i do rn whi...   \n",
       "11  I would recommend making lectures less repetit...   \n",
       "12  Maybe more time in lectures that focus on prim...   \n",
       "13                                        All good!!    \n",
       "14             less lectures and more active learning   \n",
       "15  Make curfew later and allow pm students to che...   \n",
       "16                                                Na    \n",
       "17  Maybe specify the differences between all of t...   \n",
       "18  I feel like the program is going well for me s...   \n",
       "19                 Perhaps longer time for breakfast.   \n",
       "20                                       I'm not sure   \n",
       "21  I think if possible just giving us more time o...   \n",
       "22                         more time to walk to class   \n",
       "23  More time for activities or to discuss things ...   \n",
       "24  Explain the capstone and media project more cl...   \n",
       "25  More hands on stuff if possible. I'd also like...   \n",
       "26  I hope that there are more hands-on, immersive...   \n",
       "27   more in person, hands on, clinical experiences.    \n",
       "28                                                NaN   \n",
       "29                          more interesting lectures   \n",
       "30  Limit filler/repetive lectures and focus more ...   \n",
       "31       More experience with tools and simulations.    \n",
       "32          Everything fine I don't have any changes.   \n",
       "33      I would say more time for hands on experience   \n",
       "34  I think having an interactive activity on the ...   \n",
       "35  Remove the first strike from students who don'...   \n",
       "36  I find the 6:50 check in a bit hard to underst...   \n",
       "37  1. More advance with lecture starting places/d...   \n",
       "38                          Nothing needs to be done.   \n",
       "39  I think that giving more time to ask questions...   \n",
       "40                   More group work would be nice.     \n",
       "41  Incorporating more physical/hands on activitie...   \n",
       "42  Maybe providing more work time for capstone gr...   \n",
       "43  I think allowing students to meet together mad...   \n",
       "44  Often I'm one of the last people to get lunch ...   \n",
       "45                                     more free time   \n",
       "46                        I think it's good as it is!   \n",
       "47  I don't think there are really any changes tha...   \n",
       "48                              i really like it here   \n",
       "49                                                NaN   \n",
       "50  More group discussion time for the capstone gr...   \n",
       "51                         More hands on activities.    \n",
       "\n",
       "                                         Q51 3 things  \n",
       "0   1) I would have the class subjects tie more cl...  \n",
       "1                                         More breaks  \n",
       "2                                             nothing  \n",
       "3   Less instruction and more time for hands-on ac...  \n",
       "4   Maybe they could go around and ask if anyone n...  \n",
       "5   1. I want more time for questions after each l...  \n",
       "6   Maybe cut down on the personal narrative, writing  \n",
       "7   I would like more interesting lectures, some t...  \n",
       "8   Better time management and letting all student...  \n",
       "9   Less repetitive, more breaks (with actual snacks)  \n",
       "10  More time doing independent work. I was surpri...  \n",
       "11  I feel as if having more simulations and hands...  \n",
       "12                         I can’t think of anything.  \n",
       "13                              Nothing to complain!   \n",
       "14                                                NaN  \n",
       "15         The straight lecturing sometimes is boring  \n",
       "16                                                 Na  \n",
       "17  I feel that its could be more clear in outlini...  \n",
       "18  1) I don’t mind checking in earlier but we had...  \n",
       "19     There is nothing I can think of at the moment.  \n",
       "20  Some of the lectures are somewhat lengthy but ...  \n",
       "21  Giving more time for questions to be asked and...  \n",
       "22                    nothing they are doing amazing   \n",
       "23  Some instructors weren't as interesting as oth...  \n",
       "24  I think some instructors do not give instructi...  \n",
       "25  Please, and I can't repeat this more, give us ...  \n",
       "26  I hope that it was more structured with its co...  \n",
       "27  sometimes the non-medical lectures can get rep...  \n",
       "28  I wished we had better communication abotu sch...  \n",
       "29  1) less long lecturing with no enthusiasm/ppt ...  \n",
       "30  Some of the beginning lectures were repetitive...  \n",
       "31  Well I wish we had more time with them, especi...  \n",
       "32                              Dont have suggestion.  \n",
       "33  I would say reduce time on saying irrelevant t...  \n",
       "34  I think some more structure on the capstone pr...  \n",
       "35  - The reward/punishment system could be better...  \n",
       "36  I didn’t want to learn as much about art, more...  \n",
       "37  1. better wifi PLEASE. most of the time I cann...  \n",
       "38      Just more hands on or interactive activities.  \n",
       "39  I would say that some of the courses don’t see...  \n",
       "40  Shortening your lectures or making them more i...  \n",
       "41  1. MIRs replying to questions\\n2. Having easie...  \n",
       "42  More clinical experiences. I know that we have...  \n",
       "43  1. I think the expectations on what participan...  \n",
       "44   I really appreciate every each instructor has...  \n",
       "45  time management is a little off in lectures. i...  \n",
       "46                                           Not much  \n",
       "47  There's only one thing, which is that sometime...  \n",
       "48  the MIRs were kinda angry at the whole group f...  \n",
       "49                                                NaN  \n",
       "50  One thing would be to have more time for the c...  \n",
       "51                                                NaN  "
      ]
     },
     "execution_count": 53,
     "metadata": {},
     "output_type": "execute_result"
    }
   ],
   "source": [
    "JU27M"
   ]
  },
  {
   "cell_type": "code",
   "execution_count": 59,
   "id": "1dc4a5c6",
   "metadata": {},
   "outputs": [
    {
     "name": "stderr",
     "output_type": "stream",
     "text": [
      "python(41441) MallocStackLogging: can't turn off malloc stack logging because it was not enabled.\n"
     ]
    },
    {
     "name": "stdout",
     "output_type": "stream",
     "text": [
      "Collecting gspread\n",
      "  Downloading gspread-6.2.1-py3-none-any.whl.metadata (11 kB)\n",
      "Requirement already satisfied: google-auth>=1.12.0 in /Users/jasonlin/anaconda3/lib/python3.11/site-packages (from gspread) (2.28.1)\n",
      "Requirement already satisfied: google-auth-oauthlib>=0.4.1 in /Users/jasonlin/anaconda3/lib/python3.11/site-packages (from gspread) (1.2.0)\n",
      "Requirement already satisfied: cachetools<6.0,>=2.0.0 in /Users/jasonlin/anaconda3/lib/python3.11/site-packages (from google-auth>=1.12.0->gspread) (5.3.3)\n",
      "Requirement already satisfied: pyasn1-modules>=0.2.1 in /Users/jasonlin/anaconda3/lib/python3.11/site-packages (from google-auth>=1.12.0->gspread) (0.2.8)\n",
      "Requirement already satisfied: rsa<5,>=3.1.4 in /Users/jasonlin/anaconda3/lib/python3.11/site-packages (from google-auth>=1.12.0->gspread) (4.9)\n",
      "Requirement already satisfied: requests-oauthlib>=0.7.0 in /Users/jasonlin/anaconda3/lib/python3.11/site-packages (from google-auth-oauthlib>=0.4.1->gspread) (1.3.1)\n",
      "Requirement already satisfied: pyasn1<0.5.0,>=0.4.6 in /Users/jasonlin/anaconda3/lib/python3.11/site-packages (from pyasn1-modules>=0.2.1->google-auth>=1.12.0->gspread) (0.4.8)\n",
      "Requirement already satisfied: oauthlib>=3.0.0 in /Users/jasonlin/anaconda3/lib/python3.11/site-packages (from requests-oauthlib>=0.7.0->google-auth-oauthlib>=0.4.1->gspread) (3.2.2)\n",
      "Requirement already satisfied: requests>=2.0.0 in /Users/jasonlin/anaconda3/lib/python3.11/site-packages (from requests-oauthlib>=0.7.0->google-auth-oauthlib>=0.4.1->gspread) (2.31.0)\n",
      "Requirement already satisfied: charset-normalizer<4,>=2 in /Users/jasonlin/anaconda3/lib/python3.11/site-packages (from requests>=2.0.0->requests-oauthlib>=0.7.0->google-auth-oauthlib>=0.4.1->gspread) (2.0.4)\n",
      "Requirement already satisfied: idna<4,>=2.5 in /Users/jasonlin/anaconda3/lib/python3.11/site-packages (from requests>=2.0.0->requests-oauthlib>=0.7.0->google-auth-oauthlib>=0.4.1->gspread) (3.4)\n",
      "Requirement already satisfied: urllib3<3,>=1.21.1 in /Users/jasonlin/anaconda3/lib/python3.11/site-packages (from requests>=2.0.0->requests-oauthlib>=0.7.0->google-auth-oauthlib>=0.4.1->gspread) (1.26.18)\n",
      "Requirement already satisfied: certifi>=2017.4.17 in /Users/jasonlin/anaconda3/lib/python3.11/site-packages (from requests>=2.0.0->requests-oauthlib>=0.7.0->google-auth-oauthlib>=0.4.1->gspread) (2024.2.2)\n",
      "Downloading gspread-6.2.1-py3-none-any.whl (59 kB)\n",
      "\u001b[2K   \u001b[90m━━━━━━━━━━━━━━━━━━━━━━━━━━━━━━━━━━━━━━━━\u001b[0m \u001b[32m60.0/60.0 kB\u001b[0m \u001b[31m1.8 MB/s\u001b[0m eta \u001b[36m0:00:00\u001b[0m\n",
      "\u001b[?25hInstalling collected packages: gspread\n",
      "Successfully installed gspread-6.2.1\n",
      "\n",
      "\u001b[1m[\u001b[0m\u001b[34;49mnotice\u001b[0m\u001b[1;39;49m]\u001b[0m\u001b[39;49m A new release of pip is available: \u001b[0m\u001b[31;49m24.1.2\u001b[0m\u001b[39;49m -> \u001b[0m\u001b[32;49m25.1.1\u001b[0m\n",
      "\u001b[1m[\u001b[0m\u001b[34;49mnotice\u001b[0m\u001b[1;39;49m]\u001b[0m\u001b[39;49m To update, run: \u001b[0m\u001b[32;49mpip install --upgrade pip\u001b[0m\n"
     ]
    }
   ],
   "source": [
    "!pip install gspread\n",
    "import gspread\n"
   ]
  },
  {
   "cell_type": "code",
   "execution_count": 98,
   "id": "067210a0",
   "metadata": {},
   "outputs": [],
   "source": [
    "gc = gspread.service_account()\n",
    "sh = gc.open(\"SASI 2025 Course Results\")\n"
   ]
  },
  {
   "cell_type": "code",
   "execution_count": 99,
   "id": "d76628c4",
   "metadata": {},
   "outputs": [],
   "source": [
    "AM_survey_tracker = pd.DataFrame(sh.worksheet(\"Survey Tracker AM\").get_all_values())\n",
    "new_header = AM_survey_tracker.iloc[0]\n",
    "AM_survey_tracker.columns = new_header\n",
    "AM_survey_tracker = AM_survey_tracker[1:]"
   ]
  },
  {
   "cell_type": "code",
   "execution_count": null,
   "id": "ca8832b3",
   "metadata": {},
   "outputs": [],
   "source": [
    "email = 'miaoyuzhuo@126.com'\n",
    "jade_student = AM_survey_tracker[AM_survey_tracker[\"Email\"] == email].iloc[:,3:].astype(float).clip(upper = 1)"
   ]
  },
  {
   "cell_type": "code",
   "execution_count": 138,
   "id": "971db8b0",
   "metadata": {},
   "outputs": [
    {
     "data": {
      "text/html": [
       "<div>\n",
       "<style scoped>\n",
       "    .dataframe tbody tr th:only-of-type {\n",
       "        vertical-align: middle;\n",
       "    }\n",
       "\n",
       "    .dataframe tbody tr th {\n",
       "        vertical-align: top;\n",
       "    }\n",
       "\n",
       "    .dataframe thead th {\n",
       "        text-align: right;\n",
       "    }\n",
       "</style>\n",
       "<table border=\"1\" class=\"dataframe\">\n",
       "  <thead>\n",
       "    <tr style=\"text-align: right;\">\n",
       "      <th></th>\n",
       "      <th>First Name</th>\n",
       "      <th>Last Name</th>\n",
       "      <th>Email</th>\n",
       "      <th>JU23A1</th>\n",
       "      <th>JU23A2</th>\n",
       "      <th>JU23A3</th>\n",
       "      <th>JU23A5</th>\n",
       "      <th>JU23A6</th>\n",
       "      <th>JU23AB8</th>\n",
       "      <th>JU24A1</th>\n",
       "      <th>...</th>\n",
       "      <th>JL01A3</th>\n",
       "      <th>JL01AB5</th>\n",
       "      <th>JL02A1</th>\n",
       "      <th>JL02A3</th>\n",
       "      <th>JL02A4</th>\n",
       "      <th>JL02AB6</th>\n",
       "      <th>JL03A1</th>\n",
       "      <th>JL03A2</th>\n",
       "      <th>JU27M</th>\n",
       "      <th>JL03E</th>\n",
       "    </tr>\n",
       "  </thead>\n",
       "  <tbody>\n",
       "    <tr>\n",
       "      <th>1</th>\n",
       "      <td>Jade</td>\n",
       "      <td>Chang</td>\n",
       "      <td>jadepchang@icloud.com</td>\n",
       "      <td>1.00</td>\n",
       "      <td>1.00</td>\n",
       "      <td>1.00</td>\n",
       "      <td>1.00</td>\n",
       "      <td>1.00</td>\n",
       "      <td>1.00</td>\n",
       "      <td>1.00</td>\n",
       "      <td>...</td>\n",
       "      <td>0.00</td>\n",
       "      <td>0.00</td>\n",
       "      <td>0.00</td>\n",
       "      <td>0.00</td>\n",
       "      <td>0.00</td>\n",
       "      <td>0.00</td>\n",
       "      <td>0.00</td>\n",
       "      <td>0.00</td>\n",
       "      <td>1.00</td>\n",
       "      <td>0.00</td>\n",
       "    </tr>\n",
       "    <tr>\n",
       "      <th>2</th>\n",
       "      <td>Emily</td>\n",
       "      <td>Chen</td>\n",
       "      <td>emilymeychen@gmail.com</td>\n",
       "      <td>1.00</td>\n",
       "      <td>1.00</td>\n",
       "      <td>1.00</td>\n",
       "      <td>1.00</td>\n",
       "      <td>1.00</td>\n",
       "      <td>1.00</td>\n",
       "      <td>1.00</td>\n",
       "      <td>...</td>\n",
       "      <td>0.00</td>\n",
       "      <td>0.00</td>\n",
       "      <td>0.00</td>\n",
       "      <td>0.00</td>\n",
       "      <td>0.00</td>\n",
       "      <td>0.00</td>\n",
       "      <td>0.00</td>\n",
       "      <td>0.00</td>\n",
       "      <td>1.00</td>\n",
       "      <td>0.00</td>\n",
       "    </tr>\n",
       "    <tr>\n",
       "      <th>3</th>\n",
       "      <td>Wells</td>\n",
       "      <td>Chen</td>\n",
       "      <td>wellschen2008@gmail.com</td>\n",
       "      <td>0.00</td>\n",
       "      <td>0.00</td>\n",
       "      <td>0.00</td>\n",
       "      <td>0.00</td>\n",
       "      <td>0.00</td>\n",
       "      <td>0.00</td>\n",
       "      <td>0.00</td>\n",
       "      <td>...</td>\n",
       "      <td>0.00</td>\n",
       "      <td>0.00</td>\n",
       "      <td>0.00</td>\n",
       "      <td>0.00</td>\n",
       "      <td>0.00</td>\n",
       "      <td>0.00</td>\n",
       "      <td>0.00</td>\n",
       "      <td>0.00</td>\n",
       "      <td>0.00</td>\n",
       "      <td>0.00</td>\n",
       "    </tr>\n",
       "    <tr>\n",
       "      <th>4</th>\n",
       "      <td>Curran</td>\n",
       "      <td>Haljun</td>\n",
       "      <td>curran.haljun@gmail.com</td>\n",
       "      <td>1.00</td>\n",
       "      <td>1.00</td>\n",
       "      <td>1.00</td>\n",
       "      <td>1.00</td>\n",
       "      <td>1.00</td>\n",
       "      <td>1.00</td>\n",
       "      <td>1.00</td>\n",
       "      <td>...</td>\n",
       "      <td>0.00</td>\n",
       "      <td>0.00</td>\n",
       "      <td>0.00</td>\n",
       "      <td>0.00</td>\n",
       "      <td>0.00</td>\n",
       "      <td>0.00</td>\n",
       "      <td>0.00</td>\n",
       "      <td>0.00</td>\n",
       "      <td>1.00</td>\n",
       "      <td>0.00</td>\n",
       "    </tr>\n",
       "    <tr>\n",
       "      <th>5</th>\n",
       "      <td>Seohyun</td>\n",
       "      <td>Kim</td>\n",
       "      <td>sophiakim.college2024@gmail.com</td>\n",
       "      <td>0.00</td>\n",
       "      <td>0.00</td>\n",
       "      <td>0.00</td>\n",
       "      <td>0.00</td>\n",
       "      <td>0.00</td>\n",
       "      <td>0.00</td>\n",
       "      <td>0.00</td>\n",
       "      <td>...</td>\n",
       "      <td>0.00</td>\n",
       "      <td>0.00</td>\n",
       "      <td>0.00</td>\n",
       "      <td>0.00</td>\n",
       "      <td>0.00</td>\n",
       "      <td>0.00</td>\n",
       "      <td>0.00</td>\n",
       "      <td>0.00</td>\n",
       "      <td>0.00</td>\n",
       "      <td>0.00</td>\n",
       "    </tr>\n",
       "    <tr>\n",
       "      <th>...</th>\n",
       "      <td>...</td>\n",
       "      <td>...</td>\n",
       "      <td>...</td>\n",
       "      <td>...</td>\n",
       "      <td>...</td>\n",
       "      <td>...</td>\n",
       "      <td>...</td>\n",
       "      <td>...</td>\n",
       "      <td>...</td>\n",
       "      <td>...</td>\n",
       "      <td>...</td>\n",
       "      <td>...</td>\n",
       "      <td>...</td>\n",
       "      <td>...</td>\n",
       "      <td>...</td>\n",
       "      <td>...</td>\n",
       "      <td>...</td>\n",
       "      <td>...</td>\n",
       "      <td>...</td>\n",
       "      <td>...</td>\n",
       "      <td>...</td>\n",
       "    </tr>\n",
       "    <tr>\n",
       "      <th>76</th>\n",
       "      <td>Hengyi</td>\n",
       "      <td>Liao</td>\n",
       "      <td>hengyiliao08@gmail.com</td>\n",
       "      <td>1.00</td>\n",
       "      <td>1.00</td>\n",
       "      <td>1.00</td>\n",
       "      <td>1.00</td>\n",
       "      <td>1.00</td>\n",
       "      <td>1.00</td>\n",
       "      <td>1.00</td>\n",
       "      <td>...</td>\n",
       "      <td>0.00</td>\n",
       "      <td>0.00</td>\n",
       "      <td>0.00</td>\n",
       "      <td>0.00</td>\n",
       "      <td>0.00</td>\n",
       "      <td>0.00</td>\n",
       "      <td>0.00</td>\n",
       "      <td>0.00</td>\n",
       "      <td>0.00</td>\n",
       "      <td>0.00</td>\n",
       "    </tr>\n",
       "    <tr>\n",
       "      <th>77</th>\n",
       "      <td>Mahati</td>\n",
       "      <td>Tallapaka</td>\n",
       "      <td>mahatitallapaka@gmail.com</td>\n",
       "      <td>1.00</td>\n",
       "      <td>1.00</td>\n",
       "      <td>1.00</td>\n",
       "      <td>1.00</td>\n",
       "      <td>1.00</td>\n",
       "      <td>1.00</td>\n",
       "      <td>1.00</td>\n",
       "      <td>...</td>\n",
       "      <td>0.00</td>\n",
       "      <td>0.00</td>\n",
       "      <td>0.00</td>\n",
       "      <td>0.00</td>\n",
       "      <td>0.00</td>\n",
       "      <td>0.00</td>\n",
       "      <td>0.00</td>\n",
       "      <td>0.00</td>\n",
       "      <td>1.00</td>\n",
       "      <td>0.00</td>\n",
       "    </tr>\n",
       "    <tr>\n",
       "      <th>78</th>\n",
       "      <td>Shuyue</td>\n",
       "      <td>Wang</td>\n",
       "      <td>shuyue_wang2007@outlook.com</td>\n",
       "      <td>1.00</td>\n",
       "      <td>1.00</td>\n",
       "      <td>1.00</td>\n",
       "      <td>1.00</td>\n",
       "      <td>1.00</td>\n",
       "      <td>1.00</td>\n",
       "      <td>1.00</td>\n",
       "      <td>...</td>\n",
       "      <td>0.00</td>\n",
       "      <td>0.00</td>\n",
       "      <td>0.00</td>\n",
       "      <td>0.00</td>\n",
       "      <td>0.00</td>\n",
       "      <td>0.00</td>\n",
       "      <td>0.00</td>\n",
       "      <td>0.00</td>\n",
       "      <td>0.00</td>\n",
       "      <td>0.00</td>\n",
       "    </tr>\n",
       "    <tr>\n",
       "      <th>79</th>\n",
       "      <td>Fiona</td>\n",
       "      <td>Dai</td>\n",
       "      <td>fionadai2027@gmail.com</td>\n",
       "      <td>0.00</td>\n",
       "      <td>0.00</td>\n",
       "      <td>1.00</td>\n",
       "      <td>0.00</td>\n",
       "      <td>0.00</td>\n",
       "      <td>1.00</td>\n",
       "      <td>0.00</td>\n",
       "      <td>...</td>\n",
       "      <td>0.00</td>\n",
       "      <td>0.00</td>\n",
       "      <td>0.00</td>\n",
       "      <td>0.00</td>\n",
       "      <td>0.00</td>\n",
       "      <td>0.00</td>\n",
       "      <td>0.00</td>\n",
       "      <td>0.00</td>\n",
       "      <td>1.00</td>\n",
       "      <td>0.00</td>\n",
       "    </tr>\n",
       "    <tr>\n",
       "      <th>80</th>\n",
       "      <td>Aidan</td>\n",
       "      <td>Dai</td>\n",
       "      <td>Aidan.Dai@outlook.com</td>\n",
       "      <td>1.00</td>\n",
       "      <td>1.00</td>\n",
       "      <td>1.00</td>\n",
       "      <td>1.00</td>\n",
       "      <td>1.00</td>\n",
       "      <td>1.00</td>\n",
       "      <td>0.00</td>\n",
       "      <td>...</td>\n",
       "      <td>0.00</td>\n",
       "      <td>0.00</td>\n",
       "      <td>0.00</td>\n",
       "      <td>0.00</td>\n",
       "      <td>0.00</td>\n",
       "      <td>0.00</td>\n",
       "      <td>0.00</td>\n",
       "      <td>0.00</td>\n",
       "      <td>0.00</td>\n",
       "      <td>0.00</td>\n",
       "    </tr>\n",
       "  </tbody>\n",
       "</table>\n",
       "<p>80 rows × 43 columns</p>\n",
       "</div>"
      ],
      "text/plain": [
       "0  First Name  Last Name                            Email JU23A1 JU23A2  \\\n",
       "1        Jade      Chang            jadepchang@icloud.com   1.00   1.00   \n",
       "2       Emily       Chen           emilymeychen@gmail.com   1.00   1.00   \n",
       "3       Wells       Chen          wellschen2008@gmail.com   0.00   0.00   \n",
       "4      Curran     Haljun          curran.haljun@gmail.com   1.00   1.00   \n",
       "5     Seohyun        Kim  sophiakim.college2024@gmail.com   0.00   0.00   \n",
       "..        ...        ...                              ...    ...    ...   \n",
       "76     Hengyi       Liao           hengyiliao08@gmail.com   1.00   1.00   \n",
       "77     Mahati  Tallapaka        mahatitallapaka@gmail.com   1.00   1.00   \n",
       "78     Shuyue       Wang      shuyue_wang2007@outlook.com   1.00   1.00   \n",
       "79      Fiona        Dai           fionadai2027@gmail.com   0.00   0.00   \n",
       "80      Aidan        Dai            Aidan.Dai@outlook.com   1.00   1.00   \n",
       "\n",
       "0  JU23A3 JU23A5 JU23A6 JU23AB8 JU24A1  ... JL01A3 JL01AB5 JL02A1 JL02A3  \\\n",
       "1    1.00   1.00   1.00    1.00   1.00  ...   0.00    0.00   0.00   0.00   \n",
       "2    1.00   1.00   1.00    1.00   1.00  ...   0.00    0.00   0.00   0.00   \n",
       "3    0.00   0.00   0.00    0.00   0.00  ...   0.00    0.00   0.00   0.00   \n",
       "4    1.00   1.00   1.00    1.00   1.00  ...   0.00    0.00   0.00   0.00   \n",
       "5    0.00   0.00   0.00    0.00   0.00  ...   0.00    0.00   0.00   0.00   \n",
       "..    ...    ...    ...     ...    ...  ...    ...     ...    ...    ...   \n",
       "76   1.00   1.00   1.00    1.00   1.00  ...   0.00    0.00   0.00   0.00   \n",
       "77   1.00   1.00   1.00    1.00   1.00  ...   0.00    0.00   0.00   0.00   \n",
       "78   1.00   1.00   1.00    1.00   1.00  ...   0.00    0.00   0.00   0.00   \n",
       "79   1.00   0.00   0.00    1.00   0.00  ...   0.00    0.00   0.00   0.00   \n",
       "80   1.00   1.00   1.00    1.00   0.00  ...   0.00    0.00   0.00   0.00   \n",
       "\n",
       "0  JL02A4 JL02AB6 JL03A1 JL03A2 JU27M JL03E  \n",
       "1    0.00    0.00   0.00   0.00  1.00  0.00  \n",
       "2    0.00    0.00   0.00   0.00  1.00  0.00  \n",
       "3    0.00    0.00   0.00   0.00  0.00  0.00  \n",
       "4    0.00    0.00   0.00   0.00  1.00  0.00  \n",
       "5    0.00    0.00   0.00   0.00  0.00  0.00  \n",
       "..    ...     ...    ...    ...   ...   ...  \n",
       "76   0.00    0.00   0.00   0.00  0.00  0.00  \n",
       "77   0.00    0.00   0.00   0.00  1.00  0.00  \n",
       "78   0.00    0.00   0.00   0.00  0.00  0.00  \n",
       "79   0.00    0.00   0.00   0.00  1.00  0.00  \n",
       "80   0.00    0.00   0.00   0.00  0.00  0.00  \n",
       "\n",
       "[80 rows x 43 columns]"
      ]
     },
     "execution_count": 138,
     "metadata": {},
     "output_type": "execute_result"
    }
   ],
   "source": [
    "AM_survey_tracker"
   ]
  },
  {
   "cell_type": "code",
   "execution_count": 137,
   "id": "f049d09b",
   "metadata": {},
   "outputs": [
    {
     "name": "stdout",
     "output_type": "stream",
     "text": [
      "21\n",
      "40\n"
     ]
    }
   ],
   "source": [
    "print(jade_student.iloc[0].tolist().count(1.0))\n",
    "print(len(jade_student.iloc[0].tolist()))"
   ]
  },
  {
   "cell_type": "code",
   "execution_count": 129,
   "id": "ad2a06e4",
   "metadata": {},
   "outputs": [
    {
     "data": {
      "application/vnd.plotly.v1+json": {
       "config": {
        "plotlyServerURL": "https://plot.ly"
       },
       "data": [
        {
         "coloraxis": "coloraxis",
         "hovertemplate": "x: %{x}<br>y: %{y}<br>color: %{z}<extra></extra>",
         "name": "0",
         "type": "heatmap",
         "x": [
          "JU23A1",
          "JU23A2",
          "JU23A3",
          "JU23A5",
          "JU23A6",
          "JU23AB8",
          "JU24A1",
          "JU24A3",
          "JU24A5",
          "JU24AB6ABCD",
          "JU25A1",
          "JU25A3",
          "JU25A4",
          "JU25AB6",
          "JU26A1",
          "JU26A3",
          "JU26A4",
          "JU26A12",
          "JU26AB11",
          "JU27A1",
          "JU27A3",
          "JU27A5",
          "JU28A1",
          "JU28A3",
          "JU28AB4A",
          "JU30A1",
          "JU30A2",
          "JU30A4",
          "JU30AB5",
          "JL01A1",
          "JL01A3",
          "JL01AB5",
          "JL02A1",
          "JL02A3",
          "JL02A4",
          "JL02AB6",
          "JL03A1",
          "JL03A2",
          "JU27M",
          "JL03E"
         ],
         "xaxis": "x",
         "xgap": 2,
         "y": {
          "bdata": "QA==",
          "dtype": "i1"
         },
         "yaxis": "y",
         "ygap": 2,
         "z": {
          "bdata": "AAAAAAAA8D8AAAAAAADwPwAAAAAAAPA/AAAAAAAA8D8AAAAAAADwPwAAAAAAAPA/AAAAAAAA8D8AAAAAAADwPwAAAAAAAPA/AAAAAAAA8D8AAAAAAADwPwAAAAAAAPA/AAAAAAAA8D8AAAAAAADwPwAAAAAAAPA/AAAAAAAAAAAAAAAAAADwPwAAAAAAAAAAAAAAAAAA8D8AAAAAAADwPwAAAAAAAPA/AAAAAAAA8D8AAAAAAAAAAAAAAAAAAAAAAAAAAAAAAAAAAAAAAAAAAAAAAAAAAAAAAAAAAAAAAAAAAAAAAAAAAAAAAAAAAAAAAAAAAAAAAAAAAAAAAAAAAAAAAAAAAAAAAAAAAAAAAAAAAAAAAAAAAAAAAAAAAAAAAAAAAAAAAAAAAAAAAAAAAAAAAAAAAPA/AAAAAAAAAAA=",
          "dtype": "f8",
          "shape": "1, 40"
         }
        }
       ],
       "layout": {
        "coloraxis": {
         "colorbar": {
          "ticktext": [
           "Incomplete",
           "Completed"
          ],
          "tickvals": [
           0,
           1
          ],
          "title": {
           "text": "Completion Status"
          }
         },
         "colorscale": [
          [
           0,
           "red"
          ],
          [
           1,
           "green"
          ]
         ]
        },
        "template": {
         "data": {
          "candlestick": [
           {
            "decreasing": {
             "line": {
              "color": "#000033"
             }
            },
            "increasing": {
             "line": {
              "color": "#000032"
             }
            },
            "type": "candlestick"
           }
          ],
          "contour": [
           {
            "colorscale": [
             [
              0,
              "#000011"
             ],
             [
              0.1111111111111111,
              "#000012"
             ],
             [
              0.2222222222222222,
              "#000013"
             ],
             [
              0.3333333333333333,
              "#000014"
             ],
             [
              0.4444444444444444,
              "#000015"
             ],
             [
              0.5555555555555556,
              "#000016"
             ],
             [
              0.6666666666666666,
              "#000017"
             ],
             [
              0.7777777777777778,
              "#000018"
             ],
             [
              0.8888888888888888,
              "#000019"
             ],
             [
              1,
              "#000020"
             ]
            ],
            "type": "contour"
           }
          ],
          "contourcarpet": [
           {
            "colorscale": [
             [
              0,
              "#000011"
             ],
             [
              0.1111111111111111,
              "#000012"
             ],
             [
              0.2222222222222222,
              "#000013"
             ],
             [
              0.3333333333333333,
              "#000014"
             ],
             [
              0.4444444444444444,
              "#000015"
             ],
             [
              0.5555555555555556,
              "#000016"
             ],
             [
              0.6666666666666666,
              "#000017"
             ],
             [
              0.7777777777777778,
              "#000018"
             ],
             [
              0.8888888888888888,
              "#000019"
             ],
             [
              1,
              "#000020"
             ]
            ],
            "type": "contourcarpet"
           }
          ],
          "heatmap": [
           {
            "colorscale": [
             [
              0,
              "#000011"
             ],
             [
              0.1111111111111111,
              "#000012"
             ],
             [
              0.2222222222222222,
              "#000013"
             ],
             [
              0.3333333333333333,
              "#000014"
             ],
             [
              0.4444444444444444,
              "#000015"
             ],
             [
              0.5555555555555556,
              "#000016"
             ],
             [
              0.6666666666666666,
              "#000017"
             ],
             [
              0.7777777777777778,
              "#000018"
             ],
             [
              0.8888888888888888,
              "#000019"
             ],
             [
              1,
              "#000020"
             ]
            ],
            "type": "heatmap"
           }
          ],
          "histogram2d": [
           {
            "colorscale": [
             [
              0,
              "#000011"
             ],
             [
              0.1111111111111111,
              "#000012"
             ],
             [
              0.2222222222222222,
              "#000013"
             ],
             [
              0.3333333333333333,
              "#000014"
             ],
             [
              0.4444444444444444,
              "#000015"
             ],
             [
              0.5555555555555556,
              "#000016"
             ],
             [
              0.6666666666666666,
              "#000017"
             ],
             [
              0.7777777777777778,
              "#000018"
             ],
             [
              0.8888888888888888,
              "#000019"
             ],
             [
              1,
              "#000020"
             ]
            ],
            "type": "histogram2d"
           }
          ],
          "icicle": [
           {
            "textfont": {
             "color": "white"
            },
            "type": "icicle"
           }
          ],
          "sankey": [
           {
            "textfont": {
             "color": "#000036"
            },
            "type": "sankey"
           }
          ],
          "scatter": [
           {
            "marker": {
             "line": {
              "width": 0
             }
            },
            "type": "scatter"
           }
          ],
          "table": [
           {
            "cells": {
             "fill": {
              "color": "#000038"
             },
             "font": {
              "color": "#000037"
             },
             "line": {
              "color": "#000039"
             }
            },
            "header": {
             "fill": {
              "color": "#000040"
             },
             "font": {
              "color": "#000036"
             },
             "line": {
              "color": "#000039"
             }
            },
            "type": "table"
           }
          ],
          "waterfall": [
           {
            "connector": {
             "line": {
              "color": "#000036",
              "width": 2
             }
            },
            "decreasing": {
             "marker": {
              "color": "#000033"
             }
            },
            "increasing": {
             "marker": {
              "color": "#000032"
             }
            },
            "totals": {
             "marker": {
              "color": "#000034"
             }
            },
            "type": "waterfall"
           }
          ]
         },
         "layout": {
          "coloraxis": {
           "colorscale": [
            [
             0,
             "#000011"
            ],
            [
             0.1111111111111111,
             "#000012"
            ],
            [
             0.2222222222222222,
             "#000013"
            ],
            [
             0.3333333333333333,
             "#000014"
            ],
            [
             0.4444444444444444,
             "#000015"
            ],
            [
             0.5555555555555556,
             "#000016"
            ],
            [
             0.6666666666666666,
             "#000017"
            ],
            [
             0.7777777777777778,
             "#000018"
            ],
            [
             0.8888888888888888,
             "#000019"
            ],
            [
             1,
             "#000020"
            ]
           ]
          },
          "colorscale": {
           "diverging": [
            [
             0,
             "#000021"
            ],
            [
             0.1,
             "#000022"
            ],
            [
             0.2,
             "#000023"
            ],
            [
             0.3,
             "#000024"
            ],
            [
             0.4,
             "#000025"
            ],
            [
             0.5,
             "#000026"
            ],
            [
             0.6,
             "#000027"
            ],
            [
             0.7,
             "#000028"
            ],
            [
             0.8,
             "#000029"
            ],
            [
             0.9,
             "#000030"
            ],
            [
             1,
             "#000031"
            ]
           ],
           "sequential": [
            [
             0,
             "#000011"
            ],
            [
             0.1111111111111111,
             "#000012"
            ],
            [
             0.2222222222222222,
             "#000013"
            ],
            [
             0.3333333333333333,
             "#000014"
            ],
            [
             0.4444444444444444,
             "#000015"
            ],
            [
             0.5555555555555556,
             "#000016"
            ],
            [
             0.6666666666666666,
             "#000017"
            ],
            [
             0.7777777777777778,
             "#000018"
            ],
            [
             0.8888888888888888,
             "#000019"
            ],
            [
             1,
             "#000020"
            ]
           ],
           "sequentialminus": [
            [
             0,
             "#000011"
            ],
            [
             0.1111111111111111,
             "#000012"
            ],
            [
             0.2222222222222222,
             "#000013"
            ],
            [
             0.3333333333333333,
             "#000014"
            ],
            [
             0.4444444444444444,
             "#000015"
            ],
            [
             0.5555555555555556,
             "#000016"
            ],
            [
             0.6666666666666666,
             "#000017"
            ],
            [
             0.7777777777777778,
             "#000018"
            ],
            [
             0.8888888888888888,
             "#000019"
            ],
            [
             1,
             "#000020"
            ]
           ]
          },
          "colorway": [
           "#000001",
           "#000002",
           "#000003",
           "#000004",
           "#000005",
           "#000006",
           "#000007",
           "#000008",
           "#000009",
           "#000010"
          ]
         }
        },
        "title": {
         "text": "Survey's for Student Email: miaoyuzhuo@126.com"
        },
        "xaxis": {
         "anchor": "y",
         "domain": [
          0,
          1
         ]
        },
        "yaxis": {
         "anchor": "x",
         "autorange": "reversed",
         "domain": [
          0,
          1
         ]
        }
       }
      }
     },
     "metadata": {},
     "output_type": "display_data"
    }
   ],
   "source": [
    "import plotly.express as px\n",
    "\n",
    "\n",
    "red_to_green = [[0, 'red'], [1, 'green']]\n",
    "\n",
    "fig = px.imshow(jade_student, x=jade_student.columns, y=jade_student.index, aspect='auto', color_continuous_scale= red_to_green, title = f\"Survey's for Student Email: {email}\")\n",
    "fig.update_traces(xgap=2, ygap=2)  # Increase the gap to see lines\n",
    "fig.update_layout(coloraxis_colorbar=dict(\n",
    "    title=dict(text=\"Completion Status\"),\n",
    "    tickvals=[0,1],\n",
    "    ticktext=[\"Incomplete\", \"Completed\"],\n",
    "))\n",
    "fig.show()\n"
   ]
  },
  {
   "cell_type": "code",
   "execution_count": 96,
   "id": "90d95334",
   "metadata": {},
   "outputs": [
    {
     "data": {
      "application/vnd.plotly.v1+json": {
       "config": {
        "plotlyServerURL": "https://plot.ly"
       },
       "data": [
        {
         "coloraxis": "coloraxis",
         "hovertemplate": "x: %{x}<br>y: %{y}<br>color: %{z}<extra></extra>",
         "name": "0",
         "texttemplate": "%{z}",
         "type": "heatmap",
         "x": [
          "A",
          "B",
          "C",
          "D"
         ],
         "xaxis": "x",
         "y": {
          "bdata": "AA==",
          "dtype": "i1"
         },
         "yaxis": "y",
         "z": {
          "bdata": "AQMFBw==",
          "dtype": "i1",
          "shape": "1, 4"
         }
        }
       ],
       "layout": {
        "coloraxis": {
         "colorscale": [
          [
           0,
           "#440154"
          ],
          [
           0.1111111111111111,
           "#482878"
          ],
          [
           0.2222222222222222,
           "#3e4989"
          ],
          [
           0.3333333333333333,
           "#31688e"
          ],
          [
           0.4444444444444444,
           "#26828e"
          ],
          [
           0.5555555555555556,
           "#1f9e89"
          ],
          [
           0.6666666666666666,
           "#35b779"
          ],
          [
           0.7777777777777778,
           "#6ece58"
          ],
          [
           0.8888888888888888,
           "#b5de2b"
          ],
          [
           1,
           "#fde725"
          ]
         ]
        },
        "margin": {
         "t": 60
        },
        "template": {
         "data": {
          "candlestick": [
           {
            "decreasing": {
             "line": {
              "color": "#000033"
             }
            },
            "increasing": {
             "line": {
              "color": "#000032"
             }
            },
            "type": "candlestick"
           }
          ],
          "contour": [
           {
            "colorscale": [
             [
              0,
              "#000011"
             ],
             [
              0.1111111111111111,
              "#000012"
             ],
             [
              0.2222222222222222,
              "#000013"
             ],
             [
              0.3333333333333333,
              "#000014"
             ],
             [
              0.4444444444444444,
              "#000015"
             ],
             [
              0.5555555555555556,
              "#000016"
             ],
             [
              0.6666666666666666,
              "#000017"
             ],
             [
              0.7777777777777778,
              "#000018"
             ],
             [
              0.8888888888888888,
              "#000019"
             ],
             [
              1,
              "#000020"
             ]
            ],
            "type": "contour"
           }
          ],
          "contourcarpet": [
           {
            "colorscale": [
             [
              0,
              "#000011"
             ],
             [
              0.1111111111111111,
              "#000012"
             ],
             [
              0.2222222222222222,
              "#000013"
             ],
             [
              0.3333333333333333,
              "#000014"
             ],
             [
              0.4444444444444444,
              "#000015"
             ],
             [
              0.5555555555555556,
              "#000016"
             ],
             [
              0.6666666666666666,
              "#000017"
             ],
             [
              0.7777777777777778,
              "#000018"
             ],
             [
              0.8888888888888888,
              "#000019"
             ],
             [
              1,
              "#000020"
             ]
            ],
            "type": "contourcarpet"
           }
          ],
          "heatmap": [
           {
            "colorscale": [
             [
              0,
              "#000011"
             ],
             [
              0.1111111111111111,
              "#000012"
             ],
             [
              0.2222222222222222,
              "#000013"
             ],
             [
              0.3333333333333333,
              "#000014"
             ],
             [
              0.4444444444444444,
              "#000015"
             ],
             [
              0.5555555555555556,
              "#000016"
             ],
             [
              0.6666666666666666,
              "#000017"
             ],
             [
              0.7777777777777778,
              "#000018"
             ],
             [
              0.8888888888888888,
              "#000019"
             ],
             [
              1,
              "#000020"
             ]
            ],
            "type": "heatmap"
           }
          ],
          "histogram2d": [
           {
            "colorscale": [
             [
              0,
              "#000011"
             ],
             [
              0.1111111111111111,
              "#000012"
             ],
             [
              0.2222222222222222,
              "#000013"
             ],
             [
              0.3333333333333333,
              "#000014"
             ],
             [
              0.4444444444444444,
              "#000015"
             ],
             [
              0.5555555555555556,
              "#000016"
             ],
             [
              0.6666666666666666,
              "#000017"
             ],
             [
              0.7777777777777778,
              "#000018"
             ],
             [
              0.8888888888888888,
              "#000019"
             ],
             [
              1,
              "#000020"
             ]
            ],
            "type": "histogram2d"
           }
          ],
          "icicle": [
           {
            "textfont": {
             "color": "white"
            },
            "type": "icicle"
           }
          ],
          "sankey": [
           {
            "textfont": {
             "color": "#000036"
            },
            "type": "sankey"
           }
          ],
          "scatter": [
           {
            "marker": {
             "line": {
              "width": 0
             }
            },
            "type": "scatter"
           }
          ],
          "table": [
           {
            "cells": {
             "fill": {
              "color": "#000038"
             },
             "font": {
              "color": "#000037"
             },
             "line": {
              "color": "#000039"
             }
            },
            "header": {
             "fill": {
              "color": "#000040"
             },
             "font": {
              "color": "#000036"
             },
             "line": {
              "color": "#000039"
             }
            },
            "type": "table"
           }
          ],
          "waterfall": [
           {
            "connector": {
             "line": {
              "color": "#000036",
              "width": 2
             }
            },
            "decreasing": {
             "marker": {
              "color": "#000033"
             }
            },
            "increasing": {
             "marker": {
              "color": "#000032"
             }
            },
            "totals": {
             "marker": {
              "color": "#000034"
             }
            },
            "type": "waterfall"
           }
          ]
         },
         "layout": {
          "coloraxis": {
           "colorscale": [
            [
             0,
             "#000011"
            ],
            [
             0.1111111111111111,
             "#000012"
            ],
            [
             0.2222222222222222,
             "#000013"
            ],
            [
             0.3333333333333333,
             "#000014"
            ],
            [
             0.4444444444444444,
             "#000015"
            ],
            [
             0.5555555555555556,
             "#000016"
            ],
            [
             0.6666666666666666,
             "#000017"
            ],
            [
             0.7777777777777778,
             "#000018"
            ],
            [
             0.8888888888888888,
             "#000019"
            ],
            [
             1,
             "#000020"
            ]
           ]
          },
          "colorscale": {
           "diverging": [
            [
             0,
             "#000021"
            ],
            [
             0.1,
             "#000022"
            ],
            [
             0.2,
             "#000023"
            ],
            [
             0.3,
             "#000024"
            ],
            [
             0.4,
             "#000025"
            ],
            [
             0.5,
             "#000026"
            ],
            [
             0.6,
             "#000027"
            ],
            [
             0.7,
             "#000028"
            ],
            [
             0.8,
             "#000029"
            ],
            [
             0.9,
             "#000030"
            ],
            [
             1,
             "#000031"
            ]
           ],
           "sequential": [
            [
             0,
             "#000011"
            ],
            [
             0.1111111111111111,
             "#000012"
            ],
            [
             0.2222222222222222,
             "#000013"
            ],
            [
             0.3333333333333333,
             "#000014"
            ],
            [
             0.4444444444444444,
             "#000015"
            ],
            [
             0.5555555555555556,
             "#000016"
            ],
            [
             0.6666666666666666,
             "#000017"
            ],
            [
             0.7777777777777778,
             "#000018"
            ],
            [
             0.8888888888888888,
             "#000019"
            ],
            [
             1,
             "#000020"
            ]
           ],
           "sequentialminus": [
            [
             0,
             "#000011"
            ],
            [
             0.1111111111111111,
             "#000012"
            ],
            [
             0.2222222222222222,
             "#000013"
            ],
            [
             0.3333333333333333,
             "#000014"
            ],
            [
             0.4444444444444444,
             "#000015"
            ],
            [
             0.5555555555555556,
             "#000016"
            ],
            [
             0.6666666666666666,
             "#000017"
            ],
            [
             0.7777777777777778,
             "#000018"
            ],
            [
             0.8888888888888888,
             "#000019"
            ],
            [
             1,
             "#000020"
            ]
           ]
          },
          "colorway": [
           "#000001",
           "#000002",
           "#000003",
           "#000004",
           "#000005",
           "#000006",
           "#000007",
           "#000008",
           "#000009",
           "#000010"
          ]
         }
        },
        "xaxis": {
         "anchor": "y",
         "domain": [
          0,
          1
         ]
        },
        "yaxis": {
         "anchor": "x",
         "autorange": "reversed",
         "domain": [
          0,
          1
         ]
        }
       }
      }
     },
     "metadata": {},
     "output_type": "display_data"
    }
   ],
   "source": [
    "df = pd.DataFrame([[1, 3, 5, 7]], columns=['A', 'B', 'C', 'D'])\n",
    "\n",
    "# Create heatmap\n",
    "fig = px.imshow(df, text_auto=True, aspect='auto', color_continuous_scale='Viridis')\n",
    "\n",
    "fig.show()"
   ]
  },
  {
   "cell_type": "code",
   "execution_count": 71,
   "id": "bf1c0cd9",
   "metadata": {},
   "outputs": [
    {
     "name": "stdout",
     "output_type": "stream",
     "text": [
      "[['Overall how would you rate the quality of this teaching session?']]\n"
     ]
    }
   ],
   "source": [
    "print(sh.sheet1.get('A1'))"
   ]
  },
  {
   "cell_type": "code",
   "execution_count": 69,
   "id": "6ca3442e",
   "metadata": {},
   "outputs": [
    {
     "ename": "TypeError",
     "evalue": "'Worksheet' object is not callable",
     "output_type": "error",
     "traceback": [
      "\u001b[0;31m---------------------------------------------------------------------------\u001b[0m",
      "\u001b[0;31mTypeError\u001b[0m                                 Traceback (most recent call last)",
      "Cell \u001b[0;32mIn[69], line 1\u001b[0m\n\u001b[0;32m----> 1\u001b[0m sh\u001b[38;5;241m.\u001b[39msheet1()\n",
      "\u001b[0;31mTypeError\u001b[0m: 'Worksheet' object is not callable"
     ]
    }
   ],
   "source": [
    "sh.sheet1()"
   ]
  },
  {
   "cell_type": "code",
   "execution_count": 60,
   "id": "769552a2",
   "metadata": {},
   "outputs": [
    {
     "ename": "FileNotFoundError",
     "evalue": "[Errno 2] No such file or directory: '/Users/jasonlin/.config/gspread/credentials.json'",
     "output_type": "error",
     "traceback": [
      "\u001b[0;31m---------------------------------------------------------------------------\u001b[0m",
      "\u001b[0;31mFileNotFoundError\u001b[0m                         Traceback (most recent call last)",
      "Cell \u001b[0;32mIn[60], line 1\u001b[0m\n\u001b[0;32m----> 1\u001b[0m gspread\u001b[38;5;241m.\u001b[39moauth()\n",
      "File \u001b[0;32m~/anaconda3/lib/python3.11/site-packages/gspread/auth.py:208\u001b[0m, in \u001b[0;36moauth\u001b[0;34m(scopes, flow, credentials_filename, authorized_user_filename, http_client)\u001b[0m\n\u001b[1;32m    205\u001b[0m creds \u001b[38;5;241m=\u001b[39m load_credentials(filename\u001b[38;5;241m=\u001b[39mauthorized_user_filename)\n\u001b[1;32m    207\u001b[0m \u001b[38;5;28;01mif\u001b[39;00m \u001b[38;5;129;01mnot\u001b[39;00m \u001b[38;5;28misinstance\u001b[39m(creds, Credentials):\n\u001b[0;32m--> 208\u001b[0m     \u001b[38;5;28;01mwith\u001b[39;00m \u001b[38;5;28mopen\u001b[39m(credentials_filename) \u001b[38;5;28;01mas\u001b[39;00m json_file:\n\u001b[1;32m    209\u001b[0m         client_config \u001b[38;5;241m=\u001b[39m json\u001b[38;5;241m.\u001b[39mload(json_file)\n\u001b[1;32m    210\u001b[0m     creds \u001b[38;5;241m=\u001b[39m flow(client_config\u001b[38;5;241m=\u001b[39mclient_config, scopes\u001b[38;5;241m=\u001b[39mscopes)\n",
      "\u001b[0;31mFileNotFoundError\u001b[0m: [Errno 2] No such file or directory: '/Users/jasonlin/.config/gspread/credentials.json'"
     ]
    }
   ],
   "source": [
    "gspread.oauth()"
   ]
  },
  {
   "cell_type": "code",
   "execution_count": 6,
   "id": "f01e6068",
   "metadata": {},
   "outputs": [],
   "source": [
    "am_dict = {}\n",
    "for dates in [\"June 23\", \"June 24\", \"June 25\",\"June 26\"]:\n",
    "    percent_dict ={}\n",
    "    percent_dict_pd = pd.DataFrame([{\"percent\":[]},{\"count\":[]}])\n",
    "    for percent_completed in am_data[dates]:\n",
    "        if percent_completed in percent_dict: \n",
    "            percent_dict[percent_completed] +=1\n",
    "        else:\n",
    "            percent_dict[percent_completed] = 1 \n",
    "    \n",
    "    for percent_completed in percent_dict:\n",
    "        percent_dict_pd.loc[-1] = [percent_completed, percent_dict[percent_completed]]  # adding a row\n",
    "        percent_dict_pd.index = percent_dict_pd.index + 1  # shifting index\n",
    "        percent_dict_pd = percent_dict_pd.sort_index()  # sorting by index\n",
    "\n",
    "\n",
    "\n",
    "    am_dict[dates] = percent_dict_pd\n"
   ]
  },
  {
   "cell_type": "code",
   "execution_count": 7,
   "id": "3b874e98",
   "metadata": {},
   "outputs": [
    {
     "data": {
      "text/html": [
       "<div>\n",
       "<style scoped>\n",
       "    .dataframe tbody tr th:only-of-type {\n",
       "        vertical-align: middle;\n",
       "    }\n",
       "\n",
       "    .dataframe tbody tr th {\n",
       "        vertical-align: top;\n",
       "    }\n",
       "\n",
       "    .dataframe thead th {\n",
       "        text-align: right;\n",
       "    }\n",
       "</style>\n",
       "<table border=\"1\" class=\"dataframe\">\n",
       "  <thead>\n",
       "    <tr style=\"text-align: right;\">\n",
       "      <th></th>\n",
       "      <th>percent</th>\n",
       "      <th>count</th>\n",
       "    </tr>\n",
       "  </thead>\n",
       "  <tbody>\n",
       "    <tr>\n",
       "      <th>0</th>\n",
       "      <td>16.67%</td>\n",
       "      <td>15</td>\n",
       "    </tr>\n",
       "    <tr>\n",
       "      <th>1</th>\n",
       "      <td>33.33%</td>\n",
       "      <td>3</td>\n",
       "    </tr>\n",
       "    <tr>\n",
       "      <th>2</th>\n",
       "      <td>83.33%</td>\n",
       "      <td>5</td>\n",
       "    </tr>\n",
       "    <tr>\n",
       "      <th>3</th>\n",
       "      <td>66.67%</td>\n",
       "      <td>3</td>\n",
       "    </tr>\n",
       "    <tr>\n",
       "      <th>4</th>\n",
       "      <td>0.00%</td>\n",
       "      <td>7</td>\n",
       "    </tr>\n",
       "    <tr>\n",
       "      <th>5</th>\n",
       "      <td>100.00%</td>\n",
       "      <td>45</td>\n",
       "    </tr>\n",
       "  </tbody>\n",
       "</table>\n",
       "</div>"
      ],
      "text/plain": [
       "   percent count\n",
       "0   16.67%    15\n",
       "1   33.33%     3\n",
       "2   83.33%     5\n",
       "3   66.67%     3\n",
       "4    0.00%     7\n",
       "5  100.00%    45"
      ]
     },
     "execution_count": 7,
     "metadata": {},
     "output_type": "execute_result"
    }
   ],
   "source": [
    "am_dict[\"June 23\"].dropna()"
   ]
  },
  {
   "cell_type": "code",
   "execution_count": null,
   "id": "b52ab163",
   "metadata": {},
   "outputs": [],
   "source": []
  }
 ],
 "metadata": {
  "kernelspec": {
   "display_name": "base",
   "language": "python",
   "name": "python3"
  },
  "language_info": {
   "codemirror_mode": {
    "name": "ipython",
    "version": 3
   },
   "file_extension": ".py",
   "mimetype": "text/x-python",
   "name": "python",
   "nbconvert_exporter": "python",
   "pygments_lexer": "ipython3",
   "version": "3.11.5"
  }
 },
 "nbformat": 4,
 "nbformat_minor": 5
}
